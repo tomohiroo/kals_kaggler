{
 "cells": [
  {
   "cell_type": "markdown",
   "metadata": {},
   "source": [
    "# 重回帰分析"
   ]
  },
  {
   "cell_type": "code",
   "execution_count": 24,
   "metadata": {},
   "outputs": [
    {
     "name": "stdout",
     "output_type": "stream",
     "text": [
      "        偏回帰係数                    変数\n",
      "0    0.058544         fixed acidity\n",
      "1   -1.031310      volatile acidity\n",
      "2   -0.306558           citric acid\n",
      "3    0.040771        residual sugar\n",
      "4   -1.410135             chlorides\n",
      "5    0.002689   free sulfur dioxide\n",
      "6   -0.003701  total sulfur dioxide\n",
      "7  -48.051296               density\n",
      "8   -0.174545                    pH\n",
      "9    0.749875             sulphates\n",
      "10   0.271134               alcohol\n",
      "切片: 51.11586074123521\n"
     ]
    },
    {
     "data": {
      "text/plain": [
       "(None, None)"
      ]
     },
     "execution_count": 24,
     "metadata": {},
     "output_type": "execute_result"
    }
   ],
   "source": [
    "import numpy as np\n",
    "import numpy.random as random\n",
    "import scipy as sp\n",
    "import pandas as pd\n",
    "from pandas import Series, DataFrame\n",
    "\n",
    "import matplotlib.pyplot as plt\n",
    "import matplotlib as mpl\n",
    "import seaborn as sns\n",
    "%matplotlib inline\n",
    "\n",
    "import scipy.linalg as linalg\n",
    "\n",
    "#重回帰分析を実装\n",
    "def multiple_regression(x, y):\n",
    "    x['const'] = np.array([1.]*len(x.index))\n",
    "    \n",
    "    x_matrix = x.as_matrix()\n",
    "    y_matrix = y.as_matrix()\n",
    "    \n",
    "    #行列計算を実行\n",
    "    multi_regression = np.dot(np.dot(linalg.inv(np.dot(x_matrix.T, x_matrix)), x_matrix.T), y_matrix)\n",
    "    \n",
    "    #データの取り出し\n",
    "    multi_regression_coef = multi_regression[0:-1]\n",
    "    multi_regression_intercept = multi_regression[-1]\n",
    "    \n",
    "    multi_regression_result = DataFrame({\"変数\": x.drop(\"const\",axis=1).columns, \"偏回帰係数\": multi_regression_coef})\n",
    "    \n",
    "    return print(multi_regression_result), print(\"切片:\", multi_regression_intercept)\n",
    "\n",
    "#データ読み込み(wine qualityの場合)\n",
    "wine_quality = pd.read_csv(\"/Users/hatsuisa/Downloads/train.csv\")\n",
    "\n",
    "#データを整える\n",
    "wine_quality_except_quality = wine_quality.drop(\"quality\",axis=1)\n",
    "wine_quality_quality = wine_quality['quality']\n",
    "\n",
    "#重回帰分析を実行\n",
    "multiple_regression(wine_quality_except_quality, wine_quality['quality'])"
   ]
  },
  {
   "cell_type": "markdown",
   "metadata": {},
   "source": [
    "参考になるサイト\n",
    "https://mathwords.net/kaikikeisu : 説明変数が２つの場合について解説しています。\n",
    "http://mezeylab.cb.bscb.cornell.edu/labmembers/documents/supplement%205%20-%20multiple%20regression.pdf : 一般的な場合について、数学的に解説しています。\n",
    "    \n",
    "参考になる本\n",
    "東京大学工学教程「確率・統計Ⅰ」"
   ]
  }
 ],
 "metadata": {
  "kernelspec": {
   "display_name": "Python 3",
   "language": "python",
   "name": "python3"
  },
  "language_info": {
   "codemirror_mode": {
    "name": "ipython",
    "version": 3
   },
   "file_extension": ".py",
   "mimetype": "text/x-python",
   "name": "python",
   "nbconvert_exporter": "python",
   "pygments_lexer": "ipython3",
   "version": "3.6.4"
  }
 },
 "nbformat": 4,
 "nbformat_minor": 2
}
