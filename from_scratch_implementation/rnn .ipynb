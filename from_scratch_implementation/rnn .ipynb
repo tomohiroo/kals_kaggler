{
 "cells": [
  {
   "cell_type": "code",
   "execution_count": 1,
   "metadata": {
    "collapsed": true
   },
   "outputs": [],
   "source": [
    "import numpy as np\n",
    "from matplotlib import pyplot as plt\n",
    "\n",
    "class RNN(object):\n",
    "\n",
    "    def __init__(self, n_input, n_hidden, n_output):\n",
    "        self.n_input = n_input\n",
    "        self.n_hidden = n_hidden\n",
    "        self.n_output = n_output\n",
    "        self.hidden_weight = np.random.randn(n_hidden, n_input + 1)\n",
    "        self.output_weight = np.random.randn(n_output, n_hidden + 1)\n",
    "        self.recurr_weight = np.random.randn(n_hidden, n_hidden + 1)\n",
    "\n",
    "\n",
    "    def train(self, Xl, epsilon, lam, epoch):\n",
    "        self.__loss = np.zeros(epoch)\n",
    "        for epo in range(epoch):\n",
    "            print ( 'epoch: {0}'.format(epo))\n",
    "            for X in np.random.permutation(list(Xp)):\n",
    "                tau = X.shape[0]\n",
    "                zs, ys = self.__forward_seq(X)\n",
    "                hidden_delta = np.zeros(self.n_hidden)\n",
    "                output_dEdw = np.zeros(self.output_weight.shape)\n",
    "                hidden_dEdw = np.zeros(self.hidden_weight.shape)\n",
    "                recurr_dEdw = np.zeros(self.recurr_weight.shape)\n",
    "\n",
    "                for t in range(tau - 1)[::-1]:\n",
    "\n",
    "                    # output delta\n",
    "                    output_delta = (ys[t] - X[t + 1, :]) * (1.0 - ys[t] ** 2)\n",
    "                    output_dEdw += output_delta.reshape(-1, 1) * np.hstack((1.0, zs[t]))\n",
    "\n",
    "                    # hidden delta\n",
    "                    hidden_delta = (self.output_weight[:, 1:].T.dot(output_delta) + self.recurr_weight[:, 1:].T.dot(hidden_delta)) * zs[t] * (1.0 - zs[t])\n",
    "                    hidden_dEdw += hidden_delta.reshape(-1, 1) * np.hstack((1.0, X[t, :]))\n",
    "\n",
    "                    # recurr delta\n",
    "                    zs_prev = zs[t - 1] if t > 0 else np.zeros(self.n_hidden)\n",
    "                    recurr_dEdw += hidden_delta.reshape(-1, 1) * np.hstack((1.0, zs_prev))\n",
    "\n",
    "                    # accumulate loss\n",
    "                    self.__loss[epo] += 0.5 * (ys[t] - X[t + 1]).dot((ys[t] - X[t + 1]).reshape((-1, 1))) / (tau - 1)\n",
    "\n",
    "                # update weights\n",
    "                self.output_weight -= epsilon * (output_dEdw + lam * self.output_weight)\n",
    "                self.hidden_weight -= epsilon * hidden_dEdw\n",
    "                self.recurr_weight -= epsilon * recurr_dEdw\n",
    "\n",
    "\n",
    "    def save_param(self, fn = 'weights.npy'):\n",
    "        weights = {'h': self.hidden_weight, 'o': self.output_weight, 'r': self.recurr_weight}\n",
    "        np.save(fn, weights)\n",
    "\n",
    "\n",
    "    def save_lossfig(self, fn = 'loss.png'):\n",
    "        plt.plot(np.arange(self.__loss.size), self.__loss)\n",
    "        plt.savefig(fn)\n",
    "\n",
    "\n",
    "    @classmethod\n",
    "    def load(cls, fn = 'weights.npy'):\n",
    "        weights = np.load(fn).item()\n",
    "        n_input = weights['h'].shape[1] - 1\n",
    "        n_hidden = weights['h'].shape[0]\n",
    "        n_output = weights['o'].shape[0]\n",
    "        rnn = RNN(n_input, n_hidden, n_output)\n",
    "        rnn.hidden_weight = weights['h']\n",
    "        rnn.output_weight = weights['o']\n",
    "        rnn.recurr_weight = weights['r']\n",
    "        return rnn\n",
    "\n",
    "\n",
    "    def predict(self, X):\n",
    "        _, ys = self.__forward_seq(X)\n",
    "        return ys\n",
    "\n",
    "\n",
    "    def predict_loop(self, X, times):\n",
    "        zs, ys = self.__forward_seq(X)\n",
    "        y, z = ys[-1], zs[-1]\n",
    "        for i in range(times):\n",
    "            z, y = self.__forward(y, z)\n",
    "            zs.append(z)\n",
    "            ys.append(y)\n",
    "\n",
    "        return ys\n",
    "\n",
    "\n",
    "    def __sigmoid(self, arr):\n",
    "        return 1.0 / (1.0 + np.exp(-arr))\n",
    "\n",
    "\n",
    "    def __tanh(self, arr):\n",
    "        pl = np.exp(arr)\n",
    "        mn = np.exp(-arr)\n",
    "        return (pl - mn) / (pl + mn)\n",
    "\n",
    "\n",
    "    def __forward(self, x, z):\n",
    "        r = self.recurr_weight.dot(np.hstack((1.0, z)))\n",
    "        z = self.__sigmoid(self.hidden_weight.dot(np.hstack((1.0, x))) + r)\n",
    "        y = self.__tanh(self.output_weight.dot(np.hstack((1.0, z))))\n",
    "        return (z, y)\n",
    "\n",
    "\n",
    "    def __forward_seq(self, X):\n",
    "        z = np.zeros(self.n_hidden)\n",
    "        zs, ys = ([], [])\n",
    "        for x in X:\n",
    "            z, y = self.__forward(x, z)\n",
    "            zs.append(z)\n",
    "            ys.append(y)\n",
    "        return zs, ys"
   ]
  },
  {
   "cell_type": "code",
   "execution_count": 2,
   "metadata": {},
   "outputs": [
    {
     "name": "stderr",
     "output_type": "stream",
     "text": [
      "/Users/fujiwarayoshiki/anaconda3/lib/python3.6/site-packages/ipykernel_launcher.py:19: DeprecationWarning: object of type <class 'numpy.float64'> cannot be safely interpreted as an integer.\n"
     ]
    },
    {
     "name": "stdout",
     "output_type": "stream",
     "text": [
      "epoch: 0\n",
      "epoch: 1\n",
      "epoch: 2\n",
      "epoch: 3\n",
      "epoch: 4\n",
      "epoch: 5\n",
      "epoch: 6\n",
      "epoch: 7\n",
      "epoch: 8\n",
      "epoch: 9\n",
      "epoch: 10\n",
      "epoch: 11\n",
      "epoch: 12\n",
      "epoch: 13\n",
      "epoch: 14\n",
      "epoch: 15\n",
      "epoch: 16\n",
      "epoch: 17\n",
      "epoch: 18\n",
      "epoch: 19\n",
      "epoch: 20\n",
      "epoch: 21\n",
      "epoch: 22\n",
      "epoch: 23\n",
      "epoch: 24\n",
      "epoch: 25\n",
      "epoch: 26\n",
      "epoch: 27\n",
      "epoch: 28\n",
      "epoch: 29\n"
     ]
    }
   ],
   "source": [
    "def save_loopfig(rnn, st, en, div, m, fn):\n",
    "    n = int((en - st) / pi * div + 1)\n",
    "    x = np.linspace(st, en, n)\n",
    "    ys = rnn.predict_loop(np.sin(x[:m]), n - m)\n",
    "    ys = np.array(ys)[:, 0]\n",
    "    plt.figure(figsize = (12, 6))\n",
    "    plt.plot(x[1:m], ys[1:m], '--o')\n",
    "    plt.plot(x[m - 1:], ys[m - 1:], '--o')\n",
    "    plt.savefig(fn)\n",
    "    plt.clf()\n",
    "\n",
    "if __name__ == '__main__':\n",
    "\n",
    "    N = 7000\n",
    "    pi = np.pi\n",
    "    div = 6\n",
    "    s = (np.random.rand(N) * pi).reshape(-1, 1)\n",
    "    e = s + np.random.randint(2, 5, N).reshape(-1, 1) * pi / 2\n",
    "    Xp = [np.linspace(_s, _e, (_e - _s) / pi * div + 1).reshape(-1, 1) for _s, _e in np.hstack((s, e))]\n",
    "    Xp = map(lambda X: np.sin(X), Xp)\n",
    "\n",
    "    rnn = RNN(1, 4, 1)\n",
    "    rnn.train(Xp, epsilon = 0.05, lam = 0.001, epoch = 30)\n",
    "    rnn.save_param()\n",
    "    rnn.save_lossfig()\n",
    "\n",
    "    st = np.random.rand() * pi\n",
    "    en = st + 20 * pi\n",
    "    save_loopfig(rnn, st, en, div, m = 7, fn = 'loop.png')"
   ]
  },
  {
   "cell_type": "code",
   "execution_count": 4,
   "metadata": {},
   "outputs": [
    {
     "data": {
      "text/plain": [
       "[array([-0.22271353]), array([0.70476923]), array([0.94515252])]"
      ]
     },
     "execution_count": 4,
     "metadata": {},
     "output_type": "execute_result"
    }
   ],
   "source": [
    "rnn.predict([0,0.3,1.2])"
   ]
  },
  {
   "cell_type": "code",
   "execution_count": null,
   "metadata": {
    "collapsed": true
   },
   "outputs": [],
   "source": [
    "https://qiita.com/ta-ka/items/1e4f3414d478618c373c"
   ]
  },
  {
   "cell_type": "code",
   "execution_count": null,
   "metadata": {
    "collapsed": true
   },
   "outputs": [],
   "source": []
  },
  {
   "cell_type": "code",
   "execution_count": null,
   "metadata": {
    "collapsed": true
   },
   "outputs": [],
   "source": []
  },
  {
   "cell_type": "code",
   "execution_count": null,
   "metadata": {
    "collapsed": true
   },
   "outputs": [],
   "source": []
  }
 ],
 "metadata": {
  "kernelspec": {
   "display_name": "Python 3",
   "language": "python",
   "name": "python3"
  },
  "language_info": {
   "codemirror_mode": {
    "name": "ipython",
    "version": 3
   },
   "file_extension": ".py",
   "mimetype": "text/x-python",
   "name": "python",
   "nbconvert_exporter": "python",
   "pygments_lexer": "ipython3",
   "version": "3.6.3"
  }
 },
 "nbformat": 4,
 "nbformat_minor": 2
}
