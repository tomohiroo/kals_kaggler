{
 "cells": [
  {
   "cell_type": "markdown",
   "metadata": {},
   "source": [
    "# kmaens実装しちゃうぞ"
   ]
  },
  {
   "cell_type": "markdown",
   "metadata": {},
   "source": [
    "# kmeans法とは\n",
    "## KMeans 法は、機械学習における教師なし学習のクラスタリングという問題を解くためのアルゴリズム。 教師なし学習というのは、事前に教師データというヒントが与えられないことを指している。 その上で、クラスタリングというのは未知のデータに対していくつかのまとまりを作る問題をいう。"
   ]
  },
  {
   "cell_type": "code",
   "execution_count": null,
   "metadata": {
    "collapsed": true
   },
   "outputs": [],
   "source": [
    "from matplotlib import pyplot as plt\n",
    "from sklearn import datasets\n",
    "import numpy as np\n",
    "\n",
    "class KMeans(object):\n",
    "    \n",
    "    \n",
    "    def __init__(self, n_clusters=2, max_iter=300):\n",
    "        \"\"\"\n",
    "        n_clusters(int): クラスタ数\n",
    "        max_iter(int): 最大イテレーション数\n",
    "        \"\"\"\n",
    "        self.n_clusters = n_clusters \n",
    "        self.max_iter = max_iter\n",
    "        \n",
    "        self.cluster_centers_ = None\n",
    "        \n",
    "    def fit_predict(self, features):\n",
    "        \"\"\"クラスタリングを実施する\n",
    "        Args:\n",
    "            features(numpy.ndarray): ラベル付けするデータ\n",
    "        \n",
    "        Returns:\n",
    "            numpy.ndarray: ラベルデータ\n",
    "        \"\"\"\n",
    "        # 要素の中からセントロイド(重心)の初期値となる候補をクラスタ数だけ取り出す\n",
    "        feature_indexes = np.arange(len(features))\n",
    "        np.random.shuffle(feature_indexes)\n",
    "        initial_centroid_indexes = feature_indexes[:self.n_clusters]\n",
    "        self.cluster_centers_ = features[initial_centroid_indexes]\n",
    "        \n",
    "        # ラベルづけした結果となる配列はゼロで初期化しておく\n",
    "        pred = np.zeros(features.shape)\n",
    "        \n",
    "        # クラスタリングをアップデートする\n",
    "        for _ in range(self.max_iter):\n",
    "            # 各要素から最短距離のセントロイドを基準にラベルを更新する\n",
    "            new_pred = np.array([\n",
    "                np.array([\n",
    "                    self._euclidiean_distance(p, centroid)\n",
    "                    for centroid in self.cluster_centers_\n",
    "                ] ).argmin()\n",
    "                for p in features\n",
    "            ])\n",
    "            \n",
    "            if np.all(new_pred == pred):\n",
    "                # 更新前と内容が同じなら終了\n",
    "                break\n",
    "            \n",
    "            pred = new_pred\n",
    "            \n",
    "            self.cluster_centers_ = np.array([features[pred == i].mean(axis=0)\n",
    "                                              for i in range(self.n_clusters)])\n",
    "            \n",
    "            return pred\n",
    "        \n",
    "        def _euclidiean_distance(self, p0, p1):\n",
    "            return np.sum((p0 - p1) ** 2)\n",
    "        \n",
    "\n",
    "def main():\n",
    "    # クラスタ数\n",
    "    N_CLUSTERS = 5\n",
    "    \n",
    "    # Blobデータを生成する\n",
    "    dataset = datasets.make_blobs(centers=N_CLUSTERS)\n",
    "    \n",
    "    # 特徴データ\n",
    "    features = dataset[0]\n",
    "    \n",
    "    # クラスタリングする\n",
    "    cls = KMeans(n_clusters=N_CLUSTERS)\n",
    "    pred = cls.fit_predict(features)\n",
    "    \n",
    "    # 各要素をラベルごとに色づけして表示する\n",
    "    for i in range(N_CLUSTERS):\n",
    "        labels = features[pred == i]\n",
    "        plt.scatter(labels[:, 0], labels[:, 1])\n",
    "        \n",
    "    centers = cls.cluster_centers_\n",
    "    plt.scatter(centers[:, 0], centers[:, 1], s=100,\n",
    "                facecolors='none', edgecolors='black')\n",
    "    \n",
    "    plt.show()\n",
    "    \n",
    "if __name__ == \"__main__\":\n",
    "    main()"
   ]
  },
  {
   "cell_type": "code",
   "execution_count": 14,
   "metadata": {},
   "outputs": [
    {
     "ename": "IndexError",
     "evalue": "tuple index out of range",
     "output_type": "error",
     "traceback": [
      "\u001b[0;31m---------------------------------------------------------------------------\u001b[0m",
      "\u001b[0;31mIndexError\u001b[0m                                Traceback (most recent call last)",
      "\u001b[0;32m<ipython-input-14-e411cc741464>\u001b[0m in \u001b[0;36m<module>\u001b[0;34m()\u001b[0m\n\u001b[1;32m      1\u001b[0m \u001b[0ma\u001b[0m \u001b[0;34m=\u001b[0m \u001b[0mnp\u001b[0m\u001b[0;34m.\u001b[0m\u001b[0marange\u001b[0m\u001b[0;34m(\u001b[0m\u001b[0;36m5\u001b[0m\u001b[0;34m)\u001b[0m\u001b[0;34m\u001b[0m\u001b[0m\n\u001b[1;32m      2\u001b[0m \u001b[0mnp\u001b[0m\u001b[0;34m.\u001b[0m\u001b[0mrandom\u001b[0m\u001b[0;34m.\u001b[0m\u001b[0mshuffle\u001b[0m\u001b[0;34m(\u001b[0m\u001b[0ma\u001b[0m\u001b[0;34m)\u001b[0m\u001b[0;34m\u001b[0m\u001b[0m\n\u001b[0;32m----> 3\u001b[0;31m \u001b[0mprint\u001b[0m\u001b[0;34m(\u001b[0m\u001b[0ma\u001b[0m\u001b[0;34m.\u001b[0m\u001b[0mshape\u001b[0m\u001b[0;34m[\u001b[0m\u001b[0;36m1\u001b[0m\u001b[0;34m]\u001b[0m\u001b[0;34m)\u001b[0m\u001b[0;34m\u001b[0m\u001b[0m\n\u001b[0m",
      "\u001b[0;31mIndexError\u001b[0m: tuple index out of range"
     ]
    }
   ],
   "source": []
  },
  {
   "cell_type": "markdown",
   "metadata": {},
   "source": [
    "# 参考文献\n",
    "## http://blog.amedama.jp/entry/2017/03/19/160121"
   ]
  },
  {
   "cell_type": "code",
   "execution_count": null,
   "metadata": {
    "collapsed": true
   },
   "outputs": [],
   "source": []
  }
 ],
 "metadata": {
  "kernelspec": {
   "display_name": "Python 3",
   "language": "python",
   "name": "python3"
  },
  "language_info": {
   "codemirror_mode": {
    "name": "ipython",
    "version": 3
   },
   "file_extension": ".py",
   "mimetype": "text/x-python",
   "name": "python",
   "nbconvert_exporter": "python",
   "pygments_lexer": "ipython3",
   "version": "3.6.4"
  },
  "toc": {
   "base_numbering": 1,
   "nav_menu": {},
   "number_sections": true,
   "sideBar": true,
   "skip_h1_title": false,
   "title_cell": "Table of Contents",
   "title_sidebar": "Contents",
   "toc_cell": false,
   "toc_position": {},
   "toc_section_display": true,
   "toc_window_display": false
  }
 },
 "nbformat": 4,
 "nbformat_minor": 2
}
