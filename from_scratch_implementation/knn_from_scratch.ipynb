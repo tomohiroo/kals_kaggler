{
 "cells": [
  {
   "cell_type": "markdown",
   "metadata": {},
   "source": [
    "# KNearestNeighborを実装しちゃうぞ"
   ]
  },
  {
   "cell_type": "markdown",
   "metadata": {},
   "source": [
    "# kNearestNeighborとは\n",
    "## 教師あり（付き）学習の分類問題\n",
    "### 教師信号として特徴ベクトルと正解ラベルが与えられるものをいう。 その教師信号を元に、未知の特徴ベクトルが与えられたときに正解ラベルを予想しましょう、というもの。"
   ]
  },
  {
   "cell_type": "code",
   "execution_count": 6,
   "metadata": {},
   "outputs": [
    {
     "name": "stdout",
     "output_type": "stream",
     "text": [
      "0.96\n"
     ]
    }
   ],
   "source": [
    "# k = 1 最近傍法\n",
    "import numpy as np\n",
    "from sklearn import datasets\n",
    "from sklearn.model_selection import LeaveOneOut\n",
    "from sklearn.metrics import accuracy_score\n",
    "\n",
    "class NearstNeighbors(object):\n",
    "    \n",
    "    def __init__(self):\n",
    "        self._train_data = None\n",
    "        self._target_data = None\n",
    "    \n",
    "    def fit(self, train_data, target_data):\n",
    "        self._train_data = train_data\n",
    "        self._target_data = target_data\n",
    "        \n",
    "    def predict(self, x):\n",
    "        # 判別する点と教師データとのユークリッド距離を計算する\n",
    "        distances = np.array([self._distance(p, x) for p in self._train_data])\n",
    "        \n",
    "        # 最もユークリッド距離の近い要素のインデックスを得る\n",
    "        nearest_index = distances.argmin()\n",
    "        # 最も近い要素のラベルを返す\n",
    "        return self._target_data[nearest_index]\n",
    "    \n",
    "    def _distance(self, p0, p1):\n",
    "        \"\"\"\n",
    "        二点間のユークリッド距離を計算する\n",
    "        \"\"\"\n",
    "        return np.sum((p0 - p1) ** 2)\n",
    "\n",
    "def main():\n",
    "    # iris データセットをロードする\n",
    "    iris_dataset = datasets.load_iris()\n",
    "    \n",
    "    # 特徴データセットとラベルデータを取り出す\n",
    "    features = iris_dataset.data\n",
    "    targets = iris_dataset.target\n",
    "    \n",
    "    # LOO法で汎化性能を調べる\n",
    "    predicted_labels = []\n",
    "    \n",
    "    loo = LeaveOneOut()\n",
    "    for train, test in loo.split(features):\n",
    "        train_data = features[train]\n",
    "        target_data = targets[train]\n",
    "        # モデルを学習させる\n",
    "        model = NearstNeighbors()\n",
    "        model.fit(train_data, target_data)\n",
    "        \n",
    "        # １つ抜いたテストデータを識別させる\n",
    "        predicted_label = model.predict(features[test])\n",
    "        predicted_labels.append(predicted_label)\n",
    "    # 正解率を出力する\n",
    "    score = accuracy_score(targets, predicted_labels)\n",
    "    print(score)\n",
    "    \n",
    "if __name__ == \"__main__\":\n",
    "    main()"
   ]
  },
  {
   "cell_type": "code",
   "execution_count": null,
   "metadata": {
    "collapsed": true
   },
   "outputs": [],
   "source": [
    "from collections import Counter\n",
    "\n",
    "import numpy as np\n",
    "\n",
    "from sklearn import datasets\n",
    "from sklearn.model_selection import LeaveOneOut\n",
    "from sklearn.metrics import accuracy_score\n",
    "\n",
    "\n",
    "class KNearestNeighbors(object):\n",
    "\n",
    "    def __init__(self, k=1):\n",
    "        self._train_data = None\n",
    "        self._target_data = None\n",
    "        self._k = k\n",
    "\n",
    "    def fit(self, train_data, target_data):\n",
    "        \"\"\"訓練データを学習する\"\"\"\n",
    "        # あらかじめ計算しておけるものが特にないので保存だけする\n",
    "        self._train_data = train_data\n",
    "        self._target_data = target_data\n",
    "\n",
    "    def predict(self, x):\n",
    "        \"\"\"訓練データから予測する\"\"\"\n",
    "        # 判別する点と教師データとのユークリッド距離を計算する\n",
    "        distances = np.array([self._distance(p, x) for p in self._train_data])\n",
    "        # ユークリッド距離の近い順でソートしたインデックスを得る\n",
    "        nearest_indexes = distances.argsort()[:self._k]\n",
    "        # 最も近い要素のラベルを返す\n",
    "        nearest_labels = self._target_data[nearest_indexes]\n",
    "        # 近傍のラベルで一番多いものを予測結果として返す\n",
    "        c = Counter(nearest_labels)\n",
    "        return c.most_common(1)[0][0]\n",
    "\n",
    "    def _distance(self, p0, p1):\n",
    "        \"\"\"二点間のユークリッド距離を計算する\"\"\"\n",
    "        return np.sum((p0 - p1) ** 2)\n",
    "\n",
    "\n",
    "def main():\n",
    "    iris_dataset = datasets.load_iris()\n",
    "\n",
    "    features = iris_dataset.data\n",
    "    targets = iris_dataset.target\n",
    "\n",
    "    predicted_labels = []\n",
    "\n",
    "    loo = LeaveOneOut()\n",
    "    for train, test in loo.split(features):\n",
    "        train_data = features[train]\n",
    "        target_data = targets[train]\n",
    "\n",
    "        model = KNearestNeighbors(k=3)\n",
    "        model.fit(train_data, target_data)\n",
    "\n",
    "        predicted_label = model.predict(features[test])\n",
    "        predicted_labels.append(predicted_label)\n",
    "\n",
    "    score = accuracy_score(targets, predicted_labels)\n",
    "    print(score)\n",
    "\n",
    "\n",
    "if __name__ == '__main__':\n",
    "    main()"
   ]
  },
  {
   "cell_type": "markdown",
   "metadata": {},
   "source": [
    "# 参考文献\n",
    "## http://blog.amedama.jp/entry/2017/03/18/140238\n",
    "## https://qiita.com/NoriakiOshita/items/698056cb74819624461f"
   ]
  },
  {
   "cell_type": "code",
   "execution_count": 13,
   "metadata": {},
   "outputs": [
    {
     "name": "stdout",
     "output_type": "stream",
     "text": [
      "k=1: 0.96\n",
      "k=2: 0.9466666666666667\n",
      "k=3: 0.96\n",
      "k=4: 0.96\n",
      "k=5: 0.9666666666666667\n",
      "k=6: 0.96\n",
      "k=7: 0.9666666666666667\n",
      "k=8: 0.9666666666666667\n",
      "k=9: 0.9666666666666667\n",
      "k=10: 0.9733333333333334\n",
      "k=11: 0.9733333333333334\n",
      "k=12: 0.96\n",
      "k=13: 0.9666666666666667\n",
      "k=14: 0.9733333333333334\n",
      "k=15: 0.9733333333333334\n",
      "k=16: 0.9666666666666667\n",
      "k=17: 0.9733333333333334\n",
      "k=18: 0.9733333333333334\n",
      "k=19: 0.98\n",
      "k=20: 0.98\n"
     ]
    },
    {
     "data": {
      "image/png": "[encoded data removed]",
      "text/plain": [
       "<matplotlib.figure.Figure at 0x10c874c18>"
      ]
     },
     "metadata": {},
     "output_type": "display_data"
    }
   ],
   "source": [
    "from matplotlib import pyplot as plt\n",
    "\n",
    "from sklearn import datasets\n",
    "from sklearn.model_selection import LeaveOneOut\n",
    "from sklearn.metrics import accuracy_score\n",
    "from sklearn.neighbors import KNeighborsClassifier\n",
    "\n",
    "\n",
    "def main():\n",
    "    # データセットをロードする\n",
    "    # dataset = datasets.load_digits()\n",
    "    dataset = datasets.load_iris()\n",
    "\n",
    "    # 特徴データとラベルデータを取り出す\n",
    "    features = dataset.data\n",
    "    targets = dataset.target\n",
    "\n",
    "    # 検証する近傍数の上限\n",
    "    K = 20\n",
    "    ks = range(1, K + 1)\n",
    "\n",
    "    # 使う近傍数ごとに正解率を計算する\n",
    "    accuracy_scores = []\n",
    "    for k in ks:\n",
    "        # Leave-One-Out 法で汎化性能を測る\n",
    "        predicted_labels = []\n",
    "        loo = LeaveOneOut()\n",
    "        for train, test in loo.split(features):\n",
    "            train_data = features[train]\n",
    "            target_data = targets[train]\n",
    "\n",
    "            # モデルを学習させる    \n",
    "            model = KNeighborsClassifier(n_neighbors=k)\n",
    "            model.fit(train_data, target_data)\n",
    "    \n",
    "            # 一つだけ取り除いたテストデータを識別させる\n",
    "            predicted_label = model.predict(features[test])\n",
    "            predicted_labels.append(predicted_label)\n",
    "    \n",
    "        # 正解率を計算する\n",
    "        score = accuracy_score(targets, predicted_labels)\n",
    "        print('k={0}: {1}'.format(k, score))\n",
    "\n",
    "        accuracy_scores.append(score)\n",
    "\n",
    "    # 使う近傍数ごとの正解率を折れ線グラフで可視化する\n",
    "    X = list(ks)\n",
    "    plt.plot(X, accuracy_scores)\n",
    "\n",
    "    plt.xlabel('k')\n",
    "    plt.ylabel('accuracy rate')\n",
    "    plt.show()\n",
    "    \n",
    "\n",
    "if __name__ == '__main__':\n",
    "    main()"
   ]
  },
  {
   "cell_type": "code",
   "execution_count": 11,
   "metadata": {},
   "outputs": [
    {
     "name": "stdout",
     "output_type": "stream",
     "text": [
      "1\n",
      "2\n",
      "3\n",
      "4\n"
     ]
    }
   ],
   "source": []
  },
  {
   "cell_type": "code",
   "execution_count": null,
   "metadata": {
    "collapsed": true
   },
   "outputs": [],
   "source": []
  }
 ],
 "metadata": {
  "kernelspec": {
   "display_name": "Python 3",
   "language": "python",
   "name": "python3"
  },
  "language_info": {
   "codemirror_mode": {
    "name": "ipython",
    "version": 3
   },
   "file_extension": ".py",
   "mimetype": "text/x-python",
   "name": "python",
   "nbconvert_exporter": "python",
   "pygments_lexer": "ipython3",
   "version": "3.6.4"
  },
  "toc": {
   "base_numbering": 1,
   "nav_menu": {},
   "number_sections": true,
   "sideBar": true,
   "skip_h1_title": false,
   "title_cell": "Table of Contents",
   "title_sidebar": "Contents",
   "toc_cell": false,
   "toc_position": {},
   "toc_section_display": true,
   "toc_window_display": false
  }
 },
 "nbformat": 4,
 "nbformat_minor": 2
}
