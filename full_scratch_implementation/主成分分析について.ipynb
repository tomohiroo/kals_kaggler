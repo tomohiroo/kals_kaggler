{
 "cells": [
  {
   "cell_type": "code",
   "execution_count": null,
   "metadata": {
    "collapsed": true
   },
   "outputs": [],
   "source": [
    "次元削減について\n",
    "まず次元とはデータセットの特徴量の数と考えられる\n",
    "次元削減とは、元の情報量を可能な限り残したまま入力データの次元数を減らすこと\n",
    "\n",
    "次元削減を行うメリット\n",
    "・意味解釈性の向上（３次元以内にすれば可視化も可能）\n",
    "・学習させるパラメータの削減→計算時間の削減\n",
    "　　　　　　　　　　　　　　　　　　　　　　　　　　　　　　　　　　　　　　　　　　→過学習が起きにくくなる\n",
    "\n",
    "次元削減の種類\n",
    "次元削減には、特徴選択と特徴抽出という２つの方法がある\n",
    "\n",
    "特徴選択:データにもともと含まれる特徴量のうち、データ予測に有効なものを選ぶ方法\n",
    "    \n",
    "特徴抽出：データにもともと含まれる特徴量を合成して新しい特徴量を生み出す方法\n",
    "　　　　　　　　　　　　　　　複数の特徴量を合成して、より少ない特徴量で同じレベルの精度で予測することが目標\n",
    "    　　　　　　　　　　　手法として、主成分分析やt-SNEなどがある。\n",
    "    \n",
    "\n"
   ]
  },
  {
   "cell_type": "code",
   "execution_count": null,
   "metadata": {
    "collapsed": true
   },
   "outputs": [],
   "source": [
    "主成分分析について\n",
    "主成分分析とは一言で言うと、多次元データの情報を、情報量をできるだけ変えずにより少ない次元数で表現する手法\n",
    "複数の特徴量から、新しい特徴量として合成変数を作成し、この合成変数を主成分というので主成分分析という\n",
    "\n",
    "アルゴリズムについて\n",
    "①全データを特徴空間上にプロットする\n",
    "②データを標準化\n",
    "③プロットされたデータから重心を求める\n",
    "④求まった重心から、データのばらつき（分散）が最大となる方向を見つけてその方向に直線を得る（第一主成分）\n",
    "⑤重心を通り、第一主成分と直交する直線の中で、その直線に各データを射影した際の分散が最大となるような直線を得る（第二主成分）\n",
    "⑥目的となる主成分の数が得られるまで④の作業を繰り返す\n",
    "\n",
    "寄与率\n",
    "各主成分が元のデータをどれだけ説明できているかを表す数値\n",
    "\n",
    "因子負荷量\n",
    "各特徴量の各主成分への影響を示している\n",
    "各主成分の意味を推定するために使われる"
   ]
  },
  {
   "cell_type": "code",
   "execution_count": null,
   "metadata": {
    "collapsed": true
   },
   "outputs": [],
   "source": []
  },
  {
   "cell_type": "code",
   "execution_count": null,
   "metadata": {
    "collapsed": true
   },
   "outputs": [],
   "source": [
    "主成分分析のイメージ"
   ]
  },
  {
   "cell_type": "code",
   "execution_count": 27,
   "metadata": {
    "collapsed": false
   },
   "outputs": [
    {
     "data": {
      "text/plain": [
       "<matplotlib.collections.PathCollection at 0x114bc7588>"
      ]
     },
     "execution_count": 27,
     "metadata": {},
     "output_type": "execute_result"
    },
    {
     "data": {
      "image/png": "[encoded data removed]",
      "text/plain": [
       "<matplotlib.figure.Figure at 0x114c1fda0>"
      ]
     },
     "metadata": {},
     "output_type": "display_data"
    }
   ],
   "source": [
    "data = np.random.RandomState(2)\n",
    "X = np.dot(data.rand(2, 2), rng_data.randn(2, 100)).T\n",
    "plt.scatter(X[:, 0], X[:, 1])"
   ]
  },
  {
   "cell_type": "code",
   "execution_count": 28,
   "metadata": {
    "collapsed": false
   },
   "outputs": [
    {
     "data": {
      "text/plain": [
       "PCA(copy=True, iterated_power='auto', n_components=2, random_state=None,\n",
       "  svd_solver='auto', tol=0.0, whiten=False)"
      ]
     },
     "execution_count": 28,
     "metadata": {},
     "output_type": "execute_result"
    }
   ],
   "source": [
    "from sklearn.decomposition import PCA\n",
    "pca = PCA(n_components=2)\n",
    "pca.fit(X)"
   ]
  },
  {
   "cell_type": "code",
   "execution_count": 31,
   "metadata": {
    "collapsed": false
   },
   "outputs": [
    {
     "data": {
      "image/png": "[encoded data removed]",
      "text/plain": [
       "<matplotlib.figure.Figure at 0x114e2ecf8>"
      ]
     },
     "metadata": {},
     "output_type": "display_data"
    }
   ],
   "source": [
    "# パラメータ設定\n",
    "arrowprops=dict(arrowstyle='->',\n",
    "                linewidth=2,\n",
    "                shrinkA=0, \n",
    "                shrinkB=0)\n",
    "\n",
    "# 矢印を描くための関数\n",
    "def draw_vector(v0, v1, ax=None):\n",
    "    plt.gca().annotate('', v1, v0, arrowprops=arrowprops)\n",
    "\n",
    "# 元のデータをプロット\n",
    "plt.scatter(X[:, 0], X[:, 1], alpha=1)\n",
    "\n",
    "# 主成分分析の2軸を矢印で表示する\n",
    "for length, vector in zip(pca.explained_variance_, pca.components_):\n",
    "    v = vector * 3 * np.sqrt(length)\n",
    "    draw_vector(pca.mean_, pca.mean_ + v)\n",
    "\n",
    "plt.axis('equal');"
   ]
  },
  {
   "cell_type": "code",
   "execution_count": null,
   "metadata": {
    "collapsed": true
   },
   "outputs": [],
   "source": []
  },
  {
   "cell_type": "code",
   "execution_count": null,
   "metadata": {
    "collapsed": true
   },
   "outputs": [],
   "source": [
    "主成分分析の例"
   ]
  },
  {
   "cell_type": "code",
   "execution_count": 11,
   "metadata": {
    "collapsed": true
   },
   "outputs": [],
   "source": [
    "#ライブラリの読み込み\n",
    "import numpy as np\n",
    "import matplotlib.pyplot as plt\n",
    "import pandas as pd\n",
    "% matplotlib inline"
   ]
  },
  {
   "cell_type": "code",
   "execution_count": 12,
   "metadata": {
    "collapsed": false
   },
   "outputs": [],
   "source": [
    "#データのロード\n",
    "from sklearn.datasets import load_iris\n",
    "iris = load_iris()\n",
    "X = iris.data\n",
    "y = iris.target"
   ]
  },
  {
   "cell_type": "code",
   "execution_count": 14,
   "metadata": {
    "collapsed": false
   },
   "outputs": [
    {
     "data": {
      "text/html": [
       "<div>\n",
       "<table border=\"1\" class=\"dataframe\">\n",
       "  <thead>\n",
       "    <tr style=\"text-align: right;\">\n",
       "      <th></th>\n",
       "      <th>sepal length (cm)</th>\n",
       "      <th>sepal width (cm)</th>\n",
       "      <th>petal length (cm)</th>\n",
       "      <th>petal width (cm)</th>\n",
       "    </tr>\n",
       "  </thead>\n",
       "  <tbody>\n",
       "    <tr>\n",
       "      <th>0</th>\n",
       "      <td>5.1</td>\n",
       "      <td>3.5</td>\n",
       "      <td>1.4</td>\n",
       "      <td>0.2</td>\n",
       "    </tr>\n",
       "    <tr>\n",
       "      <th>1</th>\n",
       "      <td>4.9</td>\n",
       "      <td>3.0</td>\n",
       "      <td>1.4</td>\n",
       "      <td>0.2</td>\n",
       "    </tr>\n",
       "    <tr>\n",
       "      <th>2</th>\n",
       "      <td>4.7</td>\n",
       "      <td>3.2</td>\n",
       "      <td>1.3</td>\n",
       "      <td>0.2</td>\n",
       "    </tr>\n",
       "    <tr>\n",
       "      <th>3</th>\n",
       "      <td>4.6</td>\n",
       "      <td>3.1</td>\n",
       "      <td>1.5</td>\n",
       "      <td>0.2</td>\n",
       "    </tr>\n",
       "    <tr>\n",
       "      <th>4</th>\n",
       "      <td>5.0</td>\n",
       "      <td>3.6</td>\n",
       "      <td>1.4</td>\n",
       "      <td>0.2</td>\n",
       "    </tr>\n",
       "  </tbody>\n",
       "</table>\n",
       "</div>"
      ],
      "text/plain": [
       "   sepal length (cm)  sepal width (cm)  petal length (cm)  petal width (cm)\n",
       "0                5.1               3.5                1.4               0.2\n",
       "1                4.9               3.0                1.4               0.2\n",
       "2                4.7               3.2                1.3               0.2\n",
       "3                4.6               3.1                1.5               0.2\n",
       "4                5.0               3.6                1.4               0.2"
      ]
     },
     "execution_count": 14,
     "metadata": {},
     "output_type": "execute_result"
    }
   ],
   "source": [
    "pd.DataFrame(data=iris.data, columns=iris.feature_names).head()"
   ]
  },
  {
   "cell_type": "code",
   "execution_count": 13,
   "metadata": {
    "collapsed": true
   },
   "outputs": [],
   "source": [
    "# 標準化\n",
    "from sklearn.preprocessing import StandardScaler\n",
    "scaler = StandardScaler()\n",
    "scaler.fit(X)  \n",
    "X_std = scaler.fit_transform(X) "
   ]
  },
  {
   "cell_type": "code",
   "execution_count": 16,
   "metadata": {
    "collapsed": false
   },
   "outputs": [],
   "source": [
    "# 主成分分析を実行\n",
    "from sklearn.decomposition import PCA\n",
    "pca = PCA(n_components=4) \n",
    "X_pca = pca.fit_transform(X_std)"
   ]
  },
  {
   "cell_type": "code",
   "execution_count": 17,
   "metadata": {
    "collapsed": false
   },
   "outputs": [
    {
     "name": "stdout",
     "output_type": "stream",
     "text": [
      "[0.72770452 0.23030523 0.03683832 0.00515193]\n"
     ]
    }
   ],
   "source": [
    "# 寄与率を出力\n",
    "# [第一主成分の寄与率 第二主成分の寄与率 ...]\n",
    "print(pca.explained_variance_ratio_)"
   ]
  },
  {
   "cell_type": "code",
   "execution_count": 18,
   "metadata": {
    "collapsed": false
   },
   "outputs": [
    {
     "data": {
      "text/plain": [
       "array([[ 0.89122448, -0.44931298,  0.99168442,  0.96499579],\n",
       "       [ 0.35735211,  0.88835148,  0.02024682,  0.06278622],\n",
       "       [-0.276774  ,  0.09290825,  0.05408378,  0.24329495],\n",
       "       [-0.03761047,  0.01782003,  0.11500878, -0.07515708]])"
      ]
     },
     "execution_count": 18,
     "metadata": {},
     "output_type": "execute_result"
    }
   ],
   "source": [
    "# 因子負荷量を出力\n",
    "# ['sepal length', 'sepal width', 'petal length', 'petal width']\n",
    "pca.components_ * np.sqrt(pca.explained_variance_)[:, np.newaxis]"
   ]
  },
  {
   "cell_type": "code",
   "execution_count": null,
   "metadata": {
    "collapsed": true
   },
   "outputs": [],
   "source": []
  },
  {
   "cell_type": "code",
   "execution_count": null,
   "metadata": {
    "collapsed": true
   },
   "outputs": [],
   "source": [
    "主成分分析のアルゴリズムについて"
   ]
  },
  {
   "cell_type": "code",
   "execution_count": null,
   "metadata": {
    "collapsed": true
   },
   "outputs": [],
   "source": [
    "まず主成分分析は数学的には、「共分散行列を対角化する固有値問題」となります。\n",
    "\n",
    "参考ブログ\n",
    "「http://yusuke-ujitoko.hatenablog.com/entry/2017/03/04/193628」\n",
    "「http://blog.aidemy.net/entry/2017/10/19/222941"
   ]
  },
  {
   "cell_type": "code",
   "execution_count": null,
   "metadata": {
    "collapsed": true
   },
   "outputs": [],
   "source": []
  },
  {
   "cell_type": "code",
   "execution_count": null,
   "metadata": {
    "collapsed": true
   },
   "outputs": [],
   "source": [
    "主成分分析のソースコードについて(C、C++)"
   ]
  },
  {
   "cell_type": "code",
   "execution_count": null,
   "metadata": {
    "collapsed": true
   },
   "outputs": [],
   "source": [
    "/* nag_mv_prin_comp (g03aac) Example Program.\n",
    " *\n",
    " * CLL6I261D/CLL6I261DL Version.\n",
    " *\n",
    " * Copyright 2017 Numerical Algorithms Group.\n",
    " *\n",
    " * Mark 26.1, 2017.\n",
    " *\n",
    " */\n",
    "\n",
    "#include <nag.h>\n",
    "#include <stdio.h>\n",
    "#include <nag_stdlib.h>\n",
    "#include <nagg03.h>\n",
    "\n",
    "#define X(I, J) x[(I) *tdx + J]\n",
    "#define P(I, J) p[(I) *tdp + J]\n",
    "#define E(I, J) e[(I) *tde + J]\n",
    "#define V(I, J) v[(I) *tdv + J]\n",
    "\n",
    "int main(void)\n",
    "{\n",
    "  Integer exit_status = 0, i, *isx = 0, j, m, n, nvar, tde = 6, tdp, tdv, tdx;\n",
    "  Nag_PrinCompMat matrix;\n",
    "  Nag_PrinCompScores scores;\n",
    "  Nag_Boolean weight;\n",
    "  char nag_enum_arg[40];\n",
    "  double *e = 0, *p = 0, *s = 0, *v = 0, *wt = 0, *wtptr = 0;\n",
    "  double *x = 0;\n",
    "  NagError fail;\n",
    "\n",
    "  INIT_FAIL(fail);\n",
    "\n",
    "  printf(\"nag_mv_prin_comp (g03aac) Example Program Results\\n\\n\");\n",
    "\n",
    "  /* Skip heading in data file */\n",
    "  scanf(\"%*[^\\n]\");\n",
    "\n",
    "  scanf(\"%39s\", nag_enum_arg);\n",
    "  /* nag_enum_name_to_value (x04nac).\n",
    "   * Converts NAG enum member name to value\n",
    "   */\n",
    "  matrix = (Nag_PrinCompMat) nag_enum_name_to_value(nag_enum_arg);\n",
    "  scanf(\"%39s\", nag_enum_arg);\n",
    "  scores = (Nag_PrinCompScores) nag_enum_name_to_value(nag_enum_arg);\n",
    "  scanf(\"%39s\", nag_enum_arg);\n",
    "  weight = (Nag_Boolean) nag_enum_name_to_value(nag_enum_arg);\n",
    "  scanf(\"%ld\", &n);\n",
    "  scanf(\"%ld\", &m);\n",
    "\n",
    "  if (n >= 2 && m >= 1) {\n",
    "    if (!(x = NAG_ALLOC((n) * (m), double)) ||\n",
    "        !(wt = NAG_ALLOC(n, double)) ||\n",
    "        !(s = NAG_ALLOC(m, double)) || !(isx = NAG_ALLOC(m, Integer)))\n",
    "    {\n",
    "      printf(\"Allocation failure\\n\");\n",
    "      exit_status = -1;\n",
    "      goto END;\n",
    "    }\n",
    "    tdx = m;\n",
    "  }\n",
    "  else {\n",
    "    printf(\"Invalid n or m.\\n\");\n",
    "    exit_status = 1;\n",
    "    return exit_status;\n",
    "  }\n",
    "  if (!weight) {\n",
    "    for (i = 0; i < n; ++i) {\n",
    "      for (j = 0; j < m; ++j)\n",
    "        scanf(\"%lf\", &X(i, j));\n",
    "    }\n",
    "  }\n",
    "  else {\n",
    "    for (i = 0; i < n; ++i) {\n",
    "      for (j = 0; j < m; ++j)\n",
    "        scanf(\"%lf\", &X(i, j));\n",
    "      scanf(\"%lf\", &wt[i]);\n",
    "    }\n",
    "    wtptr = wt;\n",
    "  }\n",
    "  for (j = 0; j < m; ++j) {\n",
    "    scanf(\"%ld\", &isx[j]);\n",
    "  }\n",
    "  scanf(\"%ld\", &nvar);\n",
    "  if (nvar >= 1 && nvar <= MIN(n - 1, m)) {\n",
    "    if (!(p = NAG_ALLOC(nvar * nvar, double)) ||\n",
    "        !(e = NAG_ALLOC(nvar * 6, double)) ||\n",
    "        !(v = NAG_ALLOC(n * nvar, double)))\n",
    "    {\n",
    "      printf(\"Allocation failure\\n\");\n",
    "      exit_status = -1;\n",
    "      goto END;\n",
    "    }\n",
    "    tdp = nvar;\n",
    "    tde = 6;\n",
    "    tdv = nvar;\n",
    "  }\n",
    "  else {\n",
    "    printf(\"Invalid nvar.\\n\");\n",
    "    exit_status = 1;\n",
    "    goto END;\n",
    "  }\n",
    "\n",
    "  if (matrix == Nag_MatStandardised) {\n",
    "    for (j = 0; j < m; ++j)\n",
    "      scanf(\"%lf\", &s[j]);\n",
    "  }\n",
    "\n",
    "  /* nag_mv_prin_comp (g03aac).\n",
    "   * Principal component analysis\n",
    "   */\n",
    "  nag_mv_prin_comp(matrix, scores, n, m, x, tdx, isx, s, wtptr, nvar,\n",
    "                   e, tde, p, tdp, v, tdv, &fail);\n",
    "  if (fail.code != NE_NOERROR) {\n",
    "    printf(\"Error from nag_mv_prin_comp (g03aac).\\n%s\\n\", fail.message);\n",
    "    exit_status = 1;\n",
    "    goto END;\n",
    "  }\n",
    "\n",
    "  printf(\"Eigenvalues  Percentage  Cumulative     Chisq      DF     Sig\\n\");\n",
    "  printf(\"               variation   variation\\n\\n\");\n",
    "  for (i = 0; i < nvar; ++i) {\n",
    "    for (j = 0; j < 6; ++j)\n",
    "      printf(\"%11.4f\", E(i, j));\n",
    "    printf(\"\\n\");\n",
    "  }\n",
    "  printf(\"\\nPrincipal component loadings \\n\\n\");\n",
    "  for (i = 0; i < nvar; ++i) {\n",
    "    for (j = 0; j < nvar; ++j)\n",
    "      printf(\"%9.4f\", P(i, j));\n",
    "    printf(\"\\n\");\n",
    "  }\n",
    "  printf(\"\\nPrincipal component scores \\n\\n\");\n",
    "  for (i = 0; i < n; ++i) {\n",
    "    printf(\"%2ld\", i + 1);\n",
    "    for (j = 0; j < nvar; ++j)\n",
    "      printf(\"%9.3f\", V(i, j));\n",
    "    printf(\"\\n\");\n",
    "  }\n",
    "\n",
    "END:\n",
    "  NAG_FREE(x);\n",
    "  NAG_FREE(wt);\n",
    "  NAG_FREE(s);\n",
    "  NAG_FREE(isx);\n",
    "  NAG_FREE(p);\n",
    "  NAG_FREE(e);\n",
    "  NAG_FREE(v);\n",
    "\n",
    "  return exit_status;\n",
    "}\n"
   ]
  },
  {
   "cell_type": "code",
   "execution_count": null,
   "metadata": {
    "collapsed": true
   },
   "outputs": [],
   "source": []
  },
  {
   "cell_type": "code",
   "execution_count": null,
   "metadata": {
    "collapsed": true
   },
   "outputs": [],
   "source": []
  },
  {
   "cell_type": "code",
   "execution_count": null,
   "metadata": {
    "collapsed": true
   },
   "outputs": [],
   "source": []
  },
  {
   "cell_type": "code",
   "execution_count": null,
   "metadata": {
    "collapsed": true
   },
   "outputs": [],
   "source": []
  },
  {
   "cell_type": "code",
   "execution_count": null,
   "metadata": {
    "collapsed": true
   },
   "outputs": [],
   "source": []
  }
 ],
 "metadata": {
  "kernelspec": {
   "display_name": "Python 3",
   "language": "python",
   "name": "python3"
  },
  "language_info": {
   "codemirror_mode": {
    "name": "ipython",
    "version": 3
   },
   "file_extension": ".py",
   "mimetype": "text/x-python",
   "name": "python",
   "nbconvert_exporter": "python",
   "pygments_lexer": "ipython3",
   "version": "3.6.0"
  }
 },
 "nbformat": 4,
 "nbformat_minor": 2
}
