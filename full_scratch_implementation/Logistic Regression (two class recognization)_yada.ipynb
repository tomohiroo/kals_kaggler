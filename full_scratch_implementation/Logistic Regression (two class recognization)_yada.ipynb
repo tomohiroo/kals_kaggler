{
 "cells": [
  {
   "cell_type": "markdown",
   "metadata": {},
   "source": [
    "# ロジスティック回帰\n",
    "\n",
    "\n",
    "学習用データからパラメータを推定。回帰という名前だが、『識別』する（分類する）手法である\n"
   ]
  },
  {
   "cell_type": "markdown",
   "metadata": {},
   "source": [
    "まず二クラス分類問題で考えることにする。\n",
    "\n",
    "線形識別関数だと識別境界から離れるに従い（圧倒的にどちらかの分類になる場合）値がどんどん大きくなってしまう。\n",
    "＞＞関数値を0~1の間に収められるようにしようとした。"
   ]
  },
  {
   "cell_type": "code",
   "execution_count": 1,
   "metadata": {},
   "outputs": [],
   "source": [
    "import numpy as np\n",
    "import pandas as pd\n",
    "import matplotlib.pyplot as plt\n",
    "import seaborn as sns\n",
    "from pandas import DataFrame,Series \n",
    "import math"
   ]
  },
  {
   "cell_type": "code",
   "execution_count": 2,
   "metadata": {
    "scrolled": true
   },
   "outputs": [
    {
     "data": {
      "text/html": [
       "<div>\n",
       "<style scoped>\n",
       "    .dataframe tbody tr th:only-of-type {\n",
       "        vertical-align: middle;\n",
       "    }\n",
       "\n",
       "    .dataframe tbody tr th {\n",
       "        vertical-align: top;\n",
       "    }\n",
       "\n",
       "    .dataframe thead th {\n",
       "        text-align: right;\n",
       "    }\n",
       "</style>\n",
       "<table border=\"1\" class=\"dataframe\">\n",
       "  <thead>\n",
       "    <tr style=\"text-align: right;\">\n",
       "      <th></th>\n",
       "      <th>sepal length (cm)</th>\n",
       "      <th>sepal width (cm)</th>\n",
       "      <th>petal length (cm)</th>\n",
       "      <th>petal width (cm)</th>\n",
       "      <th>label</th>\n",
       "    </tr>\n",
       "  </thead>\n",
       "  <tbody>\n",
       "    <tr>\n",
       "      <th>0</th>\n",
       "      <td>5.1</td>\n",
       "      <td>3.5</td>\n",
       "      <td>1.4</td>\n",
       "      <td>0.2</td>\n",
       "      <td>0</td>\n",
       "    </tr>\n",
       "    <tr>\n",
       "      <th>1</th>\n",
       "      <td>4.9</td>\n",
       "      <td>3.0</td>\n",
       "      <td>1.4</td>\n",
       "      <td>0.2</td>\n",
       "      <td>0</td>\n",
       "    </tr>\n",
       "    <tr>\n",
       "      <th>2</th>\n",
       "      <td>4.7</td>\n",
       "      <td>3.2</td>\n",
       "      <td>1.3</td>\n",
       "      <td>0.2</td>\n",
       "      <td>0</td>\n",
       "    </tr>\n",
       "    <tr>\n",
       "      <th>3</th>\n",
       "      <td>4.6</td>\n",
       "      <td>3.1</td>\n",
       "      <td>1.5</td>\n",
       "      <td>0.2</td>\n",
       "      <td>0</td>\n",
       "    </tr>\n",
       "    <tr>\n",
       "      <th>4</th>\n",
       "      <td>5.0</td>\n",
       "      <td>3.6</td>\n",
       "      <td>1.4</td>\n",
       "      <td>0.2</td>\n",
       "      <td>0</td>\n",
       "    </tr>\n",
       "  </tbody>\n",
       "</table>\n",
       "</div>"
      ],
      "text/plain": [
       "   sepal length (cm)  sepal width (cm)  petal length (cm)  petal width (cm)  \\\n",
       "0                5.1               3.5                1.4               0.2   \n",
       "1                4.9               3.0                1.4               0.2   \n",
       "2                4.7               3.2                1.3               0.2   \n",
       "3                4.6               3.1                1.5               0.2   \n",
       "4                5.0               3.6                1.4               0.2   \n",
       "\n",
       "   label  \n",
       "0      0  \n",
       "1      0  \n",
       "2      0  \n",
       "3      0  \n",
       "4      0  "
      ]
     },
     "execution_count": 2,
     "metadata": {},
     "output_type": "execute_result"
    }
   ],
   "source": [
    "from sklearn.datasets import load_iris\n",
    "iris = load_iris()\n",
    "iris_df = pd.DataFrame(iris.data, columns=iris.feature_names)\n",
    "iris_df['label'] = iris.target\n",
    "iris_df.head()"
   ]
  },
  {
   "cell_type": "code",
   "execution_count": 3,
   "metadata": {},
   "outputs": [
    {
     "name": "stderr",
     "output_type": "stream",
     "text": [
      "/anaconda3/lib/python3.6/site-packages/statsmodels/nonparametric/kde.py:494: RuntimeWarning: invalid value encountered in true_divide\n",
      "  binned = fast_linbin(X,a,b,gridsize)/(delta*nobs)\n",
      "/anaconda3/lib/python3.6/site-packages/statsmodels/nonparametric/kdetools.py:34: RuntimeWarning: invalid value encountered in double_scalars\n",
      "  FAC1 = 2*(np.pi*bw/RANGE)**2\n",
      "/anaconda3/lib/python3.6/site-packages/numpy/core/_methods.py:26: RuntimeWarning: invalid value encountered in reduce\n",
      "  return umr_maximum(a, axis, None, out, keepdims)\n"
     ]
    },
    {
     "data": {
      "text/plain": [
       "<seaborn.axisgrid.PairGrid at 0x1a13e91400>"
      ]
     },
     "execution_count": 3,
     "metadata": {},
     "output_type": "execute_result"
    },
    {
     "data": {
      "image/png": "[encoded data removed]",
      "text/plain": [
       "<matplotlib.figure.Figure at 0x1a13e91550>"
      ]
     },
     "metadata": {},
     "output_type": "display_data"
    }
   ],
   "source": [
    "sns.pairplot(data = iris_df,hue = \"label\",diag_kind = \"kde\")"
   ]
  },
  {
   "cell_type": "code",
   "execution_count": 4,
   "metadata": {},
   "outputs": [],
   "source": [
    "#トレーニング用のデータを作成する（のちにテスト用とトレーニング用に分割する。）\n",
    "\n",
    "iris_data = iris_df[iris_df[\"label\"].isin([1,2])].drop(\"label\",axis = 1) #１と２のみのデータに直した\n",
    "iris_target = DataFrame(iris.target)[DataFrame(iris.target)[0].isin([1,2])]\n",
    "\n",
    "#labelのデータを1,2から0,1に直す。\n",
    "iris_target[0] = iris_target[0] - 1\n",
    "\n",
    "#DattaFrame -> numpy.array\n",
    "iris_data = np.array(iris_data)\n",
    "iris_target = np.array(iris_target)\n",
    "\n",
    "# ランダムなインデックス作成\n",
    "index = np.arange(len(iris_data))\n",
    "np.random.shuffle(index)\n",
    " \n",
    "# 学習データは前半70個\n",
    "iris_train_data =  iris_data[index[:70]]\n",
    "iris_train_target = iris_target[index[:70]]\n",
    " \n",
    "# テストデータは後半30個\n",
    "iris_test_data = iris_data[index[70:]]\n",
    "iris_test_target = iris_target[index[70:]]"
   ]
  },
  {
   "cell_type": "code",
   "execution_count": 5,
   "metadata": {},
   "outputs": [
    {
     "name": "stdout",
     "output_type": "stream",
     "text": [
      "[[6.1 3.  4.6 1.4]\n",
      " [5.6 3.  4.5 1.5]\n",
      " [6.5 3.  5.2 2. ]\n",
      " [6.3 2.7 4.9 1.8]\n",
      " [7.7 3.  6.1 2.3]\n",
      " [5.6 2.9 3.6 1.3]\n",
      " [6.5 2.8 4.6 1.5]\n",
      " [6.7 3.3 5.7 2.5]\n",
      " [7.7 2.8 6.7 2. ]\n",
      " [6.5 3.2 5.1 2. ]\n",
      " [7.7 3.8 6.7 2.2]\n",
      " [6.9 3.1 5.4 2.1]\n",
      " [6.2 3.4 5.4 2.3]\n",
      " [5.6 2.8 4.9 2. ]\n",
      " [6.1 3.  4.9 1.8]\n",
      " [6.2 2.8 4.8 1.8]\n",
      " [5.9 3.2 4.8 1.8]\n",
      " [6.5 3.  5.8 2.2]\n",
      " [7.4 2.8 6.1 1.9]\n",
      " [6.7 3.1 5.6 2.4]\n",
      " [5.8 2.7 3.9 1.2]\n",
      " [5.4 3.  4.5 1.5]\n",
      " [5.7 2.8 4.1 1.3]\n",
      " [6.7 3.  5.2 2.3]\n",
      " [6.3 2.3 4.4 1.3]\n",
      " [5.8 2.7 5.1 1.9]\n",
      " [5.  2.3 3.3 1. ]\n",
      " [6.  2.9 4.5 1.5]\n",
      " [6.3 3.4 5.6 2.4]\n",
      " [5.8 2.7 4.1 1. ]\n",
      " [6.4 2.7 5.3 1.9]\n",
      " [5.5 2.5 4.  1.3]\n",
      " [5.7 3.  4.2 1.2]\n",
      " [7.  3.2 4.7 1.4]\n",
      " [6.  2.7 5.1 1.6]\n",
      " [4.9 2.5 4.5 1.7]\n",
      " [7.9 3.8 6.4 2. ]\n",
      " [6.7 3.1 4.7 1.5]\n",
      " [5.6 2.5 3.9 1.1]\n",
      " [7.2 3.6 6.1 2.5]\n",
      " [6.1 2.9 4.7 1.4]\n",
      " [6.7 3.3 5.7 2.1]\n",
      " [6.1 2.6 5.6 1.4]\n",
      " [6.6 2.9 4.6 1.3]\n",
      " [7.7 2.6 6.9 2.3]\n",
      " [6.4 2.9 4.3 1.3]\n",
      " [6.  2.2 5.  1.5]\n",
      " [6.5 3.  5.5 1.8]\n",
      " [5.  2.  3.5 1. ]\n",
      " [6.9 3.1 4.9 1.5]\n",
      " [5.7 2.5 5.  2. ]\n",
      " [5.5 2.4 3.7 1. ]\n",
      " [5.9 3.  5.1 1.8]\n",
      " [6.8 3.  5.5 2.1]\n",
      " [7.1 3.  5.9 2.1]\n",
      " [6.2 2.9 4.3 1.3]\n",
      " [5.7 2.9 4.2 1.3]\n",
      " [5.8 2.6 4.  1.2]\n",
      " [5.7 2.6 3.5 1. ]\n",
      " [6.4 2.8 5.6 2.2]\n",
      " [5.8 2.8 5.1 2.4]\n",
      " [6.8 3.2 5.9 2.3]\n",
      " [6.6 3.  4.4 1.4]\n",
      " [6.3 3.3 4.7 1.6]\n",
      " [6.9 3.2 5.7 2.3]\n",
      " [6.3 2.5 4.9 1.5]\n",
      " [6.7 3.  5.  1.7]\n",
      " [6.4 3.2 4.5 1.5]\n",
      " [7.3 2.9 6.3 1.8]\n",
      " [6.3 2.9 5.6 1.8]]\n",
      "[[6.  2.2 4.  1. ]\n",
      " [6.3 2.5 5.  1.9]\n",
      " [6.7 2.5 5.8 1.8]\n",
      " [6.4 3.2 5.3 2.3]\n",
      " [5.7 2.8 4.5 1.3]\n",
      " [5.1 2.5 3.  1.1]\n",
      " [6.9 3.1 5.1 2.3]\n",
      " [7.2 3.  5.8 1.6]\n",
      " [4.9 2.4 3.3 1. ]\n",
      " [6.1 2.8 4.7 1.2]\n",
      " [5.2 2.7 3.9 1.4]\n",
      " [7.6 3.  6.6 2.1]\n",
      " [7.2 3.2 6.  1.8]\n",
      " [6.4 3.1 5.5 1.8]\n",
      " [5.5 2.4 3.8 1.1]\n",
      " [6.3 2.8 5.1 1.5]\n",
      " [6.4 2.8 5.6 2.1]\n",
      " [6.  3.  4.8 1.8]\n",
      " [6.  3.4 4.5 1.6]\n",
      " [5.5 2.6 4.4 1.2]\n",
      " [5.5 2.3 4.  1.3]\n",
      " [5.6 3.  4.1 1.3]\n",
      " [5.9 3.  4.2 1.5]\n",
      " [6.8 2.8 4.8 1.4]\n",
      " [5.6 2.7 4.2 1.3]\n",
      " [6.1 2.8 4.  1.3]\n",
      " [5.8 2.7 5.1 1.9]\n",
      " [6.3 3.3 6.  2.5]\n",
      " [6.2 2.2 4.5 1.5]\n",
      " [6.7 3.1 4.4 1.4]]\n",
      "[[0]\n",
      " [0]\n",
      " [1]\n",
      " [1]\n",
      " [1]\n",
      " [0]\n",
      " [0]\n",
      " [1]\n",
      " [1]\n",
      " [1]\n",
      " [1]\n",
      " [1]\n",
      " [1]\n",
      " [1]\n",
      " [1]\n",
      " [1]\n",
      " [0]\n",
      " [1]\n",
      " [1]\n",
      " [1]\n",
      " [0]\n",
      " [0]\n",
      " [0]\n",
      " [1]\n",
      " [0]\n",
      " [1]\n",
      " [0]\n",
      " [0]\n",
      " [1]\n",
      " [0]\n",
      " [1]\n",
      " [0]\n",
      " [0]\n",
      " [0]\n",
      " [0]\n",
      " [1]\n",
      " [1]\n",
      " [0]\n",
      " [0]\n",
      " [1]\n",
      " [0]\n",
      " [1]\n",
      " [1]\n",
      " [0]\n",
      " [1]\n",
      " [0]\n",
      " [1]\n",
      " [1]\n",
      " [0]\n",
      " [0]\n",
      " [1]\n",
      " [0]\n",
      " [1]\n",
      " [1]\n",
      " [1]\n",
      " [0]\n",
      " [0]\n",
      " [0]\n",
      " [0]\n",
      " [1]\n",
      " [1]\n",
      " [1]\n",
      " [0]\n",
      " [0]\n",
      " [1]\n",
      " [0]\n",
      " [0]\n",
      " [0]\n",
      " [1]\n",
      " [1]]\n",
      "[[0]\n",
      " [1]\n",
      " [1]\n",
      " [1]\n",
      " [0]\n",
      " [0]\n",
      " [1]\n",
      " [1]\n",
      " [0]\n",
      " [0]\n",
      " [0]\n",
      " [1]\n",
      " [1]\n",
      " [1]\n",
      " [0]\n",
      " [1]\n",
      " [1]\n",
      " [1]\n",
      " [0]\n",
      " [0]\n",
      " [0]\n",
      " [0]\n",
      " [0]\n",
      " [0]\n",
      " [0]\n",
      " [0]\n",
      " [1]\n",
      " [1]\n",
      " [0]\n",
      " [0]]\n"
     ]
    }
   ],
   "source": [
    "print(iris_train_data)\n",
    "print(iris_test_data)\n",
    "print(iris_train_target)\n",
    "print(iris_test_target)"
   ]
  },
  {
   "cell_type": "code",
   "execution_count": 6,
   "metadata": {},
   "outputs": [],
   "source": [
    "#正規化\n",
    "\n",
    "ave_train = [sum(iris_train_data[:,i])/len(iris_train_data[:,i]) for i in range(iris_train_data.shape[1])]\n",
    "std_train = [math.sqrt(sum(iris_train_data[:,i]**2)/len(iris_train_data[:,i])-ave_train[i]) for i in range (iris_train_data.shape[1])]\n",
    "\n",
    "#ave_test = [sum(iris_test_data[:,i])/len(iris_test_data[:,i]) for i in range(iris_test_data.shape[1])]\n",
    "#std_test = [math.sqrt(sum(iris_test_data[:,i]**2)/len(iris_test_data[:,i])-ave_test[i]) for i in range (iris_test_data.shape[1])]\n",
    "\n",
    "#テストデータとトレーニングデータの平均と分散を算出\n",
    "\n",
    "for i in range (len(iris_train_data)):\n",
    "    for j in range (len(iris_train_data[i])):\n",
    "        iris_train_data[i][j] = (iris_train_data[i][j] - ave_train[j]) / std_train[j]\n",
    "\n",
    "for i in range (len(iris_test_data)):\n",
    "    for j in range (len(iris_test_data[i])):\n",
    "        iris_test_data[i][j] = (iris_test_data[i][j] - ave_train[j]) / std_train[j]\n",
    "\n",
    "#テストデータとトレーニングデータを正規化"
   ]
  },
  {
   "cell_type": "code",
   "execution_count": 7,
   "metadata": {
    "scrolled": true
   },
   "outputs": [
    {
     "name": "stdout",
     "output_type": "stream",
     "text": [
      "[[-0.03746022  0.04030145 -0.08398885 -0.26770303  1.        ]\n",
      " [-0.12315355  0.04030145 -0.10609118 -0.18367069  1.        ]\n",
      " [ 0.03109443  0.04030145  0.04862512  0.23649102  1.        ]\n",
      " [-0.00318289 -0.08601654 -0.01768186  0.06842634  1.        ]\n",
      " [ 0.23675841  0.04030145  0.24754609  0.48858804  1.        ]\n",
      " [-0.12315355 -0.00180454 -0.30501215 -0.35173537  1.        ]\n",
      " [ 0.03109443 -0.04391054 -0.08398885 -0.18367069  1.        ]\n",
      " [ 0.06537176  0.16661944  0.15913677  0.65665273  1.        ]\n",
      " [ 0.23675841 -0.04391054  0.38016007  0.23649102  1.        ]\n",
      " [ 0.03109443  0.12451345  0.0265228   0.23649102  1.        ]\n",
      " [ 0.23675841  0.37714942  0.38016007  0.4045557   1.        ]\n",
      " [ 0.09964909  0.08240745  0.09282978  0.32052336  1.        ]\n",
      " [-0.02032156  0.20872544  0.09282978  0.48858804  1.        ]\n",
      " [-0.12315355 -0.04391054 -0.01768186  0.23649102  1.        ]\n",
      " [-0.03746022  0.04030145 -0.01768186  0.06842634  1.        ]\n",
      " [-0.02032156 -0.04391054 -0.03978419  0.06842634  1.        ]\n",
      " [-0.07173755  0.12451345 -0.03978419  0.06842634  1.        ]\n",
      " [ 0.03109443  0.04030145  0.1812391   0.4045557   1.        ]\n",
      " [ 0.18534241 -0.04391054  0.24754609  0.15245868  1.        ]\n",
      " [ 0.06537176  0.08240745  0.13703444  0.57262039  1.        ]\n",
      " [-0.08887622 -0.08601654 -0.23870516 -0.43576772  1.        ]\n",
      " [-0.15743087  0.04030145 -0.10609118 -0.18367069  1.        ]\n",
      " [-0.10601488 -0.04391054 -0.1945005  -0.35173537  1.        ]\n",
      " [ 0.06537176  0.04030145  0.04862512  0.48858804  1.        ]\n",
      " [-0.00318289 -0.25444052 -0.12819351 -0.35173537  1.        ]\n",
      " [-0.08887622 -0.08601654  0.0265228   0.15245868  1.        ]\n",
      " [-0.22598553 -0.25444052 -0.37131913 -0.6038324   1.        ]\n",
      " [-0.05459889 -0.00180454 -0.10609118 -0.18367069  1.        ]\n",
      " [-0.00318289  0.20872544  0.13703444  0.57262039  1.        ]\n",
      " [-0.08887622 -0.08601654 -0.1945005  -0.6038324   1.        ]\n",
      " [ 0.01395577 -0.08601654  0.07072745  0.15245868  1.        ]\n",
      " [-0.14029221 -0.17022853 -0.21660283 -0.35173537  1.        ]\n",
      " [-0.10601488  0.04030145 -0.17239817 -0.43576772  1.        ]\n",
      " [ 0.11678776  0.12451345 -0.06188652 -0.26770303  1.        ]\n",
      " [-0.05459889 -0.08601654  0.0265228  -0.09963835  1.        ]\n",
      " [-0.2431242  -0.17022853 -0.10609118 -0.01560601  1.        ]\n",
      " [ 0.27103574  0.37714942  0.31385308  0.23649102  1.        ]\n",
      " [ 0.06537176  0.08240745 -0.06188652 -0.18367069  1.        ]\n",
      " [-0.12315355 -0.17022853 -0.23870516 -0.51980006  1.        ]\n",
      " [ 0.15106509  0.29293743  0.24754609  0.65665273  1.        ]\n",
      " [-0.03746022 -0.00180454 -0.06188652 -0.26770303  1.        ]\n",
      " [ 0.06537176  0.16661944  0.15913677  0.32052336  1.        ]\n",
      " [-0.03746022 -0.12812253  0.13703444 -0.26770303  1.        ]\n",
      " [ 0.0482331  -0.00180454 -0.08398885 -0.35173537  1.        ]\n",
      " [ 0.23675841 -0.12812253  0.42436473  0.48858804  1.        ]\n",
      " [ 0.01395577 -0.00180454 -0.15029584 -0.35173537  1.        ]\n",
      " [-0.05459889 -0.29654652  0.00442047 -0.18367069  1.        ]\n",
      " [ 0.03109443  0.04030145  0.11493211  0.06842634  1.        ]\n",
      " [-0.22598553 -0.38075851 -0.32711448 -0.6038324   1.        ]\n",
      " [ 0.09964909  0.08240745 -0.01768186 -0.18367069  1.        ]\n",
      " [-0.10601488 -0.17022853  0.00442047  0.23649102  1.        ]\n",
      " [-0.14029221 -0.21233452 -0.28290982 -0.6038324   1.        ]\n",
      " [-0.07173755  0.04030145  0.0265228   0.06842634  1.        ]\n",
      " [ 0.08251043  0.04030145  0.11493211  0.32052336  1.        ]\n",
      " [ 0.13392642  0.04030145  0.20334143  0.32052336  1.        ]\n",
      " [-0.02032156 -0.00180454 -0.15029584 -0.35173537  1.        ]\n",
      " [-0.10601488 -0.00180454 -0.17239817 -0.35173537  1.        ]\n",
      " [-0.08887622 -0.12812253 -0.21660283 -0.43576772  1.        ]\n",
      " [-0.10601488 -0.12812253 -0.32711448 -0.6038324   1.        ]\n",
      " [ 0.01395577 -0.04391054  0.13703444  0.4045557   1.        ]\n",
      " [-0.08887622 -0.04391054  0.0265228   0.57262039  1.        ]\n",
      " [ 0.08251043  0.12451345  0.20334143  0.48858804  1.        ]\n",
      " [ 0.0482331   0.04030145 -0.12819351 -0.26770303  1.        ]\n",
      " [-0.00318289  0.16661944 -0.06188652 -0.09963835  1.        ]\n",
      " [ 0.09964909  0.12451345  0.15913677  0.48858804  1.        ]\n",
      " [-0.00318289 -0.17022853 -0.01768186 -0.18367069  1.        ]\n",
      " [ 0.06537176  0.04030145  0.00442047 -0.01560601  1.        ]\n",
      " [ 0.01395577  0.12451345 -0.10609118 -0.18367069  1.        ]\n",
      " [ 0.16820375 -0.00180454  0.29175075  0.06842634  1.        ]\n",
      " [-0.00318289 -0.00180454  0.13703444  0.06842634  1.        ]]\n",
      "[[-0.05459889 -0.29654652 -0.21660283 -0.6038324   1.        ]\n",
      " [-0.00318289 -0.17022853  0.00442047  0.15245868  1.        ]\n",
      " [ 0.06537176 -0.17022853  0.1812391   0.06842634  1.        ]\n",
      " [ 0.01395577  0.12451345  0.07072745  0.48858804  1.        ]\n",
      " [-0.10601488 -0.04391054 -0.10609118 -0.35173537  1.        ]\n",
      " [-0.20884687 -0.17022853 -0.43762612 -0.51980006  1.        ]\n",
      " [ 0.09964909  0.08240745  0.0265228   0.48858804  1.        ]\n",
      " [ 0.15106509  0.04030145  0.1812391  -0.09963835  1.        ]\n",
      " [-0.2431242  -0.21233452 -0.37131913 -0.6038324   1.        ]\n",
      " [-0.03746022 -0.04391054 -0.06188652 -0.43576772  1.        ]\n",
      " [-0.1917082  -0.08601654 -0.23870516 -0.26770303  1.        ]\n",
      " [ 0.21961974  0.04030145  0.35805774  0.32052336  1.        ]\n",
      " [ 0.15106509  0.12451345  0.22544376  0.06842634  1.        ]\n",
      " [ 0.01395577  0.08240745  0.11493211  0.06842634  1.        ]\n",
      " [-0.14029221 -0.21233452 -0.26080749 -0.51980006  1.        ]\n",
      " [-0.00318289 -0.04391054  0.0265228  -0.18367069  1.        ]\n",
      " [ 0.01395577 -0.04391054  0.13703444  0.32052336  1.        ]\n",
      " [-0.05459889  0.04030145 -0.03978419  0.06842634  1.        ]\n",
      " [-0.05459889  0.20872544 -0.10609118 -0.09963835  1.        ]\n",
      " [-0.14029221 -0.12812253 -0.12819351 -0.43576772  1.        ]\n",
      " [-0.14029221 -0.25444052 -0.21660283 -0.35173537  1.        ]\n",
      " [-0.12315355  0.04030145 -0.1945005  -0.35173537  1.        ]\n",
      " [-0.07173755  0.04030145 -0.17239817 -0.18367069  1.        ]\n",
      " [ 0.08251043 -0.04391054 -0.03978419 -0.26770303  1.        ]\n",
      " [-0.12315355 -0.08601654 -0.17239817 -0.35173537  1.        ]\n",
      " [-0.03746022 -0.04391054 -0.21660283 -0.35173537  1.        ]\n",
      " [-0.08887622 -0.08601654  0.0265228   0.15245868  1.        ]\n",
      " [-0.00318289  0.16661944  0.22544376  0.65665273  1.        ]\n",
      " [-0.02032156 -0.29654652 -0.10609118 -0.18367069  1.        ]\n",
      " [ 0.06537176  0.08240745 -0.12819351 -0.26770303  1.        ]]\n"
     ]
    }
   ],
   "source": [
    "# 定数項をweightのwの中に入れてしまうためにtrain_dataに全てのrowで値が１となるcolumnを作る。\n",
    "iris_train_data1 = np.insert(iris_train_data,iris_train_data.shape[1],1,axis = 1)\n",
    "\n",
    "#test_dataでも同じことをする\n",
    "iris_test_data1 = np.insert(iris_test_data,iris_test_data.shape[1],1,axis = 1)\n",
    "\n",
    "print(iris_train_data1)\n",
    "print(iris_test_data1)"
   ]
  },
  {
   "cell_type": "code",
   "execution_count": 8,
   "metadata": {},
   "outputs": [],
   "source": [
    "#パラメータ最尤推定が解析的には不可能なので、最急降下法（勾配の一番急な方向に向かってくだって行って傾き０のところまで到達する）をやってみる。\n",
    "#この関数では負の対数尤度関数のwでの微分を求めている。\n",
    "def grad(x,t,w):  #xは学習用データの学習させる部分（分類する先のクラスのデータを除いたもの）（m(データ数)*n)、tはtターゲットのデータ(m次)、wはパラメーター(n次）\n",
    "    grad = np.zeros(len(x[0]))\n",
    "    for i in range (0,len(x)):\n",
    "        y_hat = 1/(1 + math.exp(-np.dot(w,x[i])))\n",
    "        error = y_hat - t[i]   #error : schalar\n",
    "        grad = grad + error * x[i]\n",
    "    return grad "
   ]
  },
  {
   "cell_type": "markdown",
   "metadata": {},
   "source": [
    "最急降下法についての不安\n",
    "\n",
    "学習率がよくわからない（どの程度に設定すればいいのか）\n",
    "初期値の設定の仕方がどうすればいいのか見当がつかない。\n",
    "＞＞とりあえず初期値は0,学習率が1となるようにした。\n",
    "\n",
    "\n",
    "最急降下法以外にもニュートンラフソン法などという別の方法もあるらしい。"
   ]
  },
  {
   "cell_type": "code",
   "execution_count": 9,
   "metadata": {
    "scrolled": false
   },
   "outputs": [],
   "source": [
    "#最急降下法を実装\n",
    "def grad_descent(x,t,w0,eta,times):  #初期値と学習率、更新回数は引数として取ることとする。\n",
    "    w = w0\n",
    "    i = 0\n",
    "    while i <= times :  #何かしらの条件を指定。最適なやり方は時と場合によって異なる\n",
    "        \n",
    "        w = w - eta * grad(x,t,w)   #パラメーターの値を更新している。\n",
    "        i = i + 1\n",
    "        eta = eta * 0.9  #学習率は回を追うごとに小さくするようにしている\n",
    "    return w\n"
   ]
  },
  {
   "cell_type": "code",
   "execution_count": 10,
   "metadata": {},
   "outputs": [],
   "source": [
    "\n",
    "\n",
    "#初期値、学習率、更新回数の設定\n",
    "w0 = [0,0,0,0,0]\n",
    "eta = 1\n",
    "times = 6\n",
    "w = grad_descent(iris_train_data1,iris_train_target,w0,eta,times)\n",
    "\n",
    "#result（予測値）を生成    \n",
    "result = np.zeros(len(iris_test_data1))\n",
    "for i in range (len(iris_test_data1)):\n",
    "    y_hat = 1/(1 + math.exp(-np.dot(iris_test_data1[i] , w)))\n",
    "    if y_hat>0.5:\n",
    "        result[i] = 1      \n",
    "    "
   ]
  },
  {
   "cell_type": "code",
   "execution_count": 11,
   "metadata": {},
   "outputs": [
    {
     "name": "stdout",
     "output_type": "stream",
     "text": [
      "accuracy: 0.9666666666666667\n"
     ]
    }
   ],
   "source": [
    "#評価する\n",
    "point = 0\n",
    "for i,j in zip(iris_test_target,result):\n",
    "    if i == j:\n",
    "        point = point + 1\n",
    "\n",
    "accuracy = point/len(result)\n",
    "print(\"accuracy:\" , accuracy)"
   ]
  },
  {
   "cell_type": "markdown",
   "metadata": {},
   "source": [
    "現状でもaccuracyはかなり高いと言えるが、非線形の場合への応用として、学習用データを非線形関数に代入したものでの学習なども行なってみる。\n",
    "\n",
    "非線形変換といっても難しい話ではなく、規定として非線形な関数を導入してやればいいだけのことである。導入の仕方は根拠に基づいた方が望ましい、と思う。どうしても根拠に基づいたものがなければ、多変数関数のテイラー展開の考え方を元にして、一次の項だけでなく二次の項を追加するというのも手か。(完全に自分の考えですが。)\n"
   ]
  },
  {
   "cell_type": "code",
   "execution_count": 13,
   "metadata": {},
   "outputs": [],
   "source": [
    "#トレーニング用のデータを作成する（のちにテスト用とトレーニング用に分割する。）\n",
    "\n",
    "iris_data = iris_df[iris_df[\"label\"].isin([1,2])].drop(\"label\",axis = 1) #１と２のみのデータに直した\n",
    "iris_target = DataFrame(iris.target)[DataFrame(iris.target)[0].isin([1,2])]\n",
    "\n",
    "#labelのデータを1,2から0,1に直す。\n",
    "iris_target[0] = iris_target[0] - 1\n",
    "\n",
    "#DattaFrame -> numpy.array\n",
    "iris_data = np.array(iris_data)\n",
    "iris_target = np.array(iris_target)\n",
    "\n",
    "#例えば各々の行のデータの二乗の項をデータとして加えたいときはこうなる。他にも非線形行の加え方はいろいろある。\n",
    "iris_2dim_data = np.concatenate([iris_data,iris_data*iris_data,\n",
    "                (iris_data[:,0]*iris_data[:,1]).reshape(100,1),(iris_data[:,0]*iris_data[:,2]).reshape(100,1),\n",
    "                (iris_data[:,0]*iris_data[:,3]).reshape(100,1),(iris_data[:,1]*iris_data[:,2]).reshape(100,1),\n",
    "                (iris_data[:,1]*iris_data[:,3]).reshape(100,1),(iris_data[:,2]*iris_data[:,3]).reshape(100,1)],axis =1)"
   ]
  },
  {
   "cell_type": "code",
   "execution_count": 14,
   "metadata": {},
   "outputs": [
    {
     "data": {
      "text/plain": [
       "14"
      ]
     },
     "execution_count": 14,
     "metadata": {},
     "output_type": "execute_result"
    }
   ],
   "source": [
    "len(iris_2dim_data[0])"
   ]
  },
  {
   "cell_type": "code",
   "execution_count": 15,
   "metadata": {},
   "outputs": [],
   "source": [
    "# ランダムなインデックス作成\n",
    "index = np.arange(len(iris_data))\n",
    "np.random.shuffle(index)\n",
    " \n",
    "# 学習データは前半70個\n",
    "iris_train_data =  iris_2dim_data[index[:70]]\n",
    "iris_train_target = iris_target[index[:70]]\n",
    " \n",
    "# テストデータは後半30個\n",
    "iris_test_data = iris_2dim_data[index[70:]]\n",
    "iris_test_target = iris_target[index[70:]]"
   ]
  },
  {
   "cell_type": "code",
   "execution_count": 16,
   "metadata": {},
   "outputs": [],
   "source": [
    "#正規化\n",
    "\n",
    "ave_train = [sum(iris_train_data[:,i])/len(iris_train_data[:,i]) for i in range(iris_train_data.shape[1])]\n",
    "std_train = [math.sqrt(sum(iris_train_data[:,i]**2)/len(iris_train_data[:,i])-ave_train[i]) for i in range (iris_train_data.shape[1])]\n",
    "\n",
    "#ave_test = [sum(iris_test_data[:,i])/len(iris_test_data[:,i]) for i in range(iris_test_data.shape[1])]\n",
    "#std_test = [math.sqrt(sum(iris_test_data[:,i]**2)/len(iris_test_data[:,i])-ave_test[i]) for i in range (iris_test_data.shape[1])]\n",
    "\n",
    "#テストデータとトレーニングデータの平均と分散を算出\n",
    "\n",
    "for i in range (len(iris_train_data)):\n",
    "    for j in range (len(iris_train_data[i])):\n",
    "        iris_train_data[i][j] = (iris_train_data[i][j] - ave_train[j]) / std_train[j]\n",
    "\n",
    "for i in range (len(iris_test_data)):\n",
    "    for j in range (len(iris_test_data[i])):\n",
    "        iris_test_data[i][j] = (iris_test_data[i][j] - ave_train[j]) / std_train[j]\n",
    "\n",
    "#テストデータとトレーニングデータを正規化"
   ]
  },
  {
   "cell_type": "code",
   "execution_count": 17,
   "metadata": {},
   "outputs": [],
   "source": [
    "# 定数項をweightのwの中に入れてしまうためにtrain_dataに全てのrowで値が１となるcolumnを作る。\n",
    "iris_train_data1 = np.insert(iris_train_data,iris_train_data.shape[1],1,axis = 1)\n",
    "\n",
    "#test_dataでも同じことをする\n",
    "iris_test_data1 = np.insert(iris_test_data,iris_test_data.shape[1],1,axis = 1)\n",
    "\n"
   ]
  },
  {
   "cell_type": "code",
   "execution_count": 18,
   "metadata": {},
   "outputs": [],
   "source": [
    "#初期値、学習率、更新回数の設定\n",
    "w0 = [0 for i in range(len(iris_train_data1[0]))]\n",
    "eta = 1\n",
    "times = 100\n",
    "w = grad_descent(iris_train_data1,iris_train_target,w0,eta,times)\n",
    "\n",
    "#result（予測値）を生成    \n",
    "result = np.zeros(len(iris_test_data1))\n",
    "for i in range (len(iris_test_data1)):\n",
    "    y_hat = 1/(1 + math.exp(-np.dot(iris_test_data1[i] , w)))\n",
    "    if y_hat>0.5:\n",
    "        result[i] = 1 "
   ]
  },
  {
   "cell_type": "code",
   "execution_count": 19,
   "metadata": {},
   "outputs": [
    {
     "name": "stdout",
     "output_type": "stream",
     "text": [
      "accuracy: 0.8666666666666667\n"
     ]
    }
   ],
   "source": [
    "#評価する\n",
    "point = 0\n",
    "for i,j in zip(iris_test_target,result):\n",
    "    if i == j:\n",
    "        point = point + 1\n",
    "\n",
    "accuracy = point/len(result)\n",
    "print(\"accuracy:\" , accuracy)"
   ]
  },
  {
   "cell_type": "markdown",
   "metadata": {},
   "source": [
    "###### 実装の時に役立ったやつ\n",
    "https://dev.classmethod.jp/machine-learning/logistic-regression-impl/\n",
    "    \n",
    "使ってはないけど実装に役立ちそうなやつ\n",
    "http://blog.brains-tech.co.jp/entry/2016/04/04/105718\n"
   ]
  },
  {
   "cell_type": "markdown",
   "metadata": {},
   "source": [
    "###### 仕組みを割と教えてくれているやつ\n",
    "https://qiita.com/nanairoGlasses/items/6bf747734bac2a509628\n",
    "    \n",
    "http://gihyo.jp/dev/serial/01/machine-learning/0020\n",
    "    "
   ]
  },
  {
   "cell_type": "markdown",
   "metadata": {},
   "source": [
    "###### 個人的にはネットの資料ではこれはわかりやすかった。\n",
    "http://tkengo.github.io/blog/2016/06/04/yaruo-machine-learning5/\n",
    "http://tkengo.github.io/blog/2016/06/16/yaruo-machine-learning6/"
   ]
  },
  {
   "cell_type": "markdown",
   "metadata": {},
   "source": [
    "###### あとは、「初めてのパターン認識」を理論の理解のために使いました。"
   ]
  },
  {
   "cell_type": "code",
   "execution_count": null,
   "metadata": {},
   "outputs": [],
   "source": []
  },
  {
   "cell_type": "markdown",
   "metadata": {},
   "source": [
    "###### 反省点\n",
    "\n",
    "尤度関数のパラメータを求めるやり方をもっと工夫できると思う。\n",
    "多クラス分類の仕組み理解がまだできていない。（から、実装もできない）\n",
    "可視化した方がわかりやすかったかも（実際に可視化できる場合はあまりない気もするが）\n",
    "なんか非線形関数の基底としてガウス核関数というのがあり、それを使うのが結構一般的らしいが、何故なのかはあまりよくわかっていない。"
   ]
  },
  {
   "cell_type": "code",
   "execution_count": null,
   "metadata": {},
   "outputs": [],
   "source": []
  },
  {
   "cell_type": "code",
   "execution_count": null,
   "metadata": {},
   "outputs": [],
   "source": []
  },
  {
   "cell_type": "code",
   "execution_count": null,
   "metadata": {},
   "outputs": [],
   "source": []
  },
  {
   "cell_type": "code",
   "execution_count": null,
   "metadata": {},
   "outputs": [],
   "source": []
  },
  {
   "cell_type": "code",
   "execution_count": null,
   "metadata": {},
   "outputs": [],
   "source": []
  },
  {
   "cell_type": "code",
   "execution_count": null,
   "metadata": {},
   "outputs": [],
   "source": []
  },
  {
   "cell_type": "code",
   "execution_count": null,
   "metadata": {},
   "outputs": [],
   "source": []
  },
  {
   "cell_type": "code",
   "execution_count": null,
   "metadata": {},
   "outputs": [],
   "source": []
  },
  {
   "cell_type": "code",
   "execution_count": null,
   "metadata": {},
   "outputs": [],
   "source": []
  },
  {
   "cell_type": "code",
   "execution_count": null,
   "metadata": {},
   "outputs": [],
   "source": []
  },
  {
   "cell_type": "markdown",
   "metadata": {},
   "source": [
    "###### 可視化は時間がなかったのもあって今回はできませんでした。"
   ]
  },
  {
   "cell_type": "markdown",
   "metadata": {},
   "source": [
    "分かりやすいように（説明用に）可視化した図を描いてみたいが、図にできるのは二次元まで　＞＞見た目相関が薄そうなsepal width とsepal lengthの項を落として回帰してみる。"
   ]
  },
  {
   "cell_type": "code",
   "execution_count": 20,
   "metadata": {},
   "outputs": [],
   "source": [
    "iris_train_data2 = iris_train_data[:,[2,3,4]]\n",
    "iris_test_data2 = iris_test_data[:,[2,3,4]]"
   ]
  },
  {
   "cell_type": "code",
   "execution_count": 21,
   "metadata": {
    "scrolled": true
   },
   "outputs": [],
   "source": [
    "#初期値、学習率、更新回数の設定\n",
    "w0 = [0,0,0]\n",
    "eta = 1\n",
    "times = 100\n",
    "w = grad_descent(iris_train_data2,iris_train_target,w0,eta,times)\n",
    "\n",
    "#result（予測値）を生成    \n",
    "result = np.zeros(len(iris_test_data2))\n",
    "for i in range (len(iris_test_data2)):\n",
    "    y_hat = 1/(1 + math.exp(-np.dot(iris_test_data2[i] , w)))\n",
    "    if y_hat>0.5:\n",
    "        result[i] = 1 "
   ]
  },
  {
   "cell_type": "code",
   "execution_count": 22,
   "metadata": {},
   "outputs": [
    {
     "name": "stdout",
     "output_type": "stream",
     "text": [
      "accuracy: 0.9\n"
     ]
    }
   ],
   "source": [
    "#評価する\n",
    "point = 0\n",
    "for i,j in zip(iris_test_target,result):\n",
    "    if i == j:\n",
    "        point = point + 1\n",
    "\n",
    "accuracy = point/len(result)\n",
    "print(\"accuracy:\" , accuracy)"
   ]
  },
  {
   "cell_type": "markdown",
   "metadata": {},
   "source": [
    "\n",
    "下のは、学習用データxが二次元の場合に、どのように識別境界が貼られているか示してくれる（グラフをかいてくれる）\n",
    "\n",
    "一般にはxは二次元ではない。\n",
    "\n",
    "下に自分で三次元のものを作っておいた。\n",
    "\n",
    "ネットに落ちてたやつ。\n",
    "\n"
   ]
  },
  {
   "cell_type": "code",
   "execution_count": 23,
   "metadata": {},
   "outputs": [
    {
     "ename": "IndexError",
     "evalue": "too many indices for array",
     "output_type": "error",
     "traceback": [
      "\u001b[0;31m---------------------------------------------------------------------------\u001b[0m",
      "\u001b[0;31mIndexError\u001b[0m                                Traceback (most recent call last)",
      "\u001b[0;32m<ipython-input-23-5d3183b73611>\u001b[0m in \u001b[0;36m<module>\u001b[0;34m()\u001b[0m\n\u001b[1;32m      1\u001b[0m \u001b[0;31m#標本データの可視化\u001b[0m\u001b[0;34m\u001b[0m\u001b[0;34m\u001b[0m\u001b[0m\n\u001b[1;32m      2\u001b[0m \u001b[0;31m##正解値が１のデータを'o'で可視化\u001b[0m\u001b[0;34m\u001b[0m\u001b[0;34m\u001b[0m\u001b[0m\n\u001b[0;32m----> 3\u001b[0;31m \u001b[0mplt\u001b[0m\u001b[0;34m.\u001b[0m\u001b[0mplot\u001b[0m\u001b[0;34m(\u001b[0m\u001b[0miris_train_data2\u001b[0m\u001b[0;34m[\u001b[0m\u001b[0;34m[\u001b[0m\u001b[0miris_train_target\u001b[0m\u001b[0;34m==\u001b[0m\u001b[0;36m1\u001b[0m\u001b[0;34m]\u001b[0m\u001b[0;34m,\u001b[0m\u001b[0;34m[\u001b[0m\u001b[0;36m2\u001b[0m\u001b[0;34m,\u001b[0m\u001b[0;36m3\u001b[0m\u001b[0;34m]\u001b[0m\u001b[0;34m]\u001b[0m\u001b[0;34m,\u001b[0m\u001b[0;34m[\u001b[0m\u001b[0;34m[\u001b[0m\u001b[0miris_train_target\u001b[0m\u001b[0;34m==\u001b[0m\u001b[0;36m1\u001b[0m\u001b[0;34m]\u001b[0m\u001b[0;34m,\u001b[0m\u001b[0;34m[\u001b[0m\u001b[0;36m2\u001b[0m\u001b[0;34m,\u001b[0m\u001b[0;36m3\u001b[0m\u001b[0;34m]\u001b[0m\u001b[0;34m]\u001b[0m\u001b[0;34m,\u001b[0m\u001b[0;34m'o'\u001b[0m\u001b[0;34m)\u001b[0m\u001b[0;34m\u001b[0m\u001b[0m\n\u001b[0m\u001b[1;32m      4\u001b[0m \u001b[0;31m##正解値が０のデータを'o'で可視化\u001b[0m\u001b[0;34m\u001b[0m\u001b[0;34m\u001b[0m\u001b[0m\n\u001b[1;32m      5\u001b[0m \u001b[0mplt\u001b[0m\u001b[0;34m.\u001b[0m\u001b[0mplot\u001b[0m\u001b[0;34m(\u001b[0m\u001b[0miris_train_data2\u001b[0m\u001b[0;34m[\u001b[0m\u001b[0miris_train_target\u001b[0m\u001b[0;34m==\u001b[0m\u001b[0;36m0\u001b[0m\u001b[0;34m]\u001b[0m\u001b[0;34m,\u001b[0m\u001b[0miris_train_data2\u001b[0m\u001b[0;34m[\u001b[0m\u001b[0miris_train_target\u001b[0m\u001b[0;34m==\u001b[0m\u001b[0;36m0\u001b[0m\u001b[0;34m]\u001b[0m\u001b[0;34m,\u001b[0m\u001b[0;34m'x'\u001b[0m\u001b[0;34m)\u001b[0m\u001b[0;34m\u001b[0m\u001b[0m\n",
      "\u001b[0;31mIndexError\u001b[0m: too many indices for array"
     ]
    }
   ],
   "source": [
    "#標本データの可視化\n",
    "##正解値が１のデータを'o'で可視化\n",
    "plt.plot(iris_train_data2[[iris_train_target==1],[2,3]],[[iris_train_target==1],[2,3]],'o')\n",
    "##正解値が０のデータを'o'で可視化\n",
    "plt.plot(iris_train_data2[iris_train_target==0],iris_train_data2[iris_train_target==0],'x')\n",
    "\n",
    "\n",
    "#描画するグラフのx軸の長さ\n",
    "xline = np.linspace(-2,2,100)\n",
    "\n",
    "#決定境界を可視化する関数を実装\n",
    "def validator(theta):\n",
    "    #(x,y)におけるy軸。\n",
    "    #シグモイド関数では θTxa=0 が分類AとBの境界だったので、その時の値を求めてプロットする。\n",
    "    #θTx = θ0x0 + θ1x1 + θ2x2 = 0\n",
    "    #x2  = -(θ0 + θ1x1) / θ2\n",
    "    y = -(theta[2] + theta[1] * xline) / theta[0]\n",
    "\n",
    "    return y\n",
    "\n",
    "#決定境界の可視化\n",
    "#plt.plot(x0, -(theta[0] + theta[1] * xline) / theta[2], linestyle='solid')\n",
    "plt.plot(xline, validator(w), linestyle='solid', label='boudary')\n",
    "plt.legend(loc='lower right')\n",
    "plt.show()\n",
    "\n",
    "print('算出された決定境界の式')\n",
    "print('y = {:0.3f} + {:0.3f} * x1 + {:0.3f} * x2'.format(theta[0], theta[1], theta[2]))\n"
   ]
  },
  {
   "cell_type": "code",
   "execution_count": null,
   "metadata": {},
   "outputs": [],
   "source": []
  },
  {
   "cell_type": "code",
   "execution_count": null,
   "metadata": {},
   "outputs": [],
   "source": []
  }
 ],
 "metadata": {
  "kernelspec": {
   "display_name": "Python 3",
   "language": "python",
   "name": "python3"
  },
  "language_info": {
   "codemirror_mode": {
    "name": "ipython",
    "version": 3
   },
   "file_extension": ".py",
   "mimetype": "text/x-python",
   "name": "python",
   "nbconvert_exporter": "python",
   "pygments_lexer": "ipython3",
   "version": "3.6.4"
  }
 },
 "nbformat": 4,
 "nbformat_minor": 2
}
