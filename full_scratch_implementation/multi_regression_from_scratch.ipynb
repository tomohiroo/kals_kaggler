{
 "cells": [
  {
   "cell_type": "code",
   "execution_count": 2,
   "metadata": {},
   "outputs": [
    {
     "name": "stdout",
     "output_type": "stream",
     "text": [
      "        偏回帰係数                    変数\n",
      "0    0.058544         fixed acidity\n",
      "1   -1.031310      volatile acidity\n",
      "2   -0.306558           citric acid\n",
      "3    0.040771        residual sugar\n",
      "4   -1.410135             chlorides\n",
      "5    0.002689   free sulfur dioxide\n",
      "6   -0.003701  total sulfur dioxide\n",
      "7  -48.051296               density\n",
      "8   -0.174545                    pH\n",
      "9    0.749875             sulphates\n",
      "10   0.271134               alcohol\n",
      "切片: 51.11586074123521\n"
     ]
    }
   ],
   "source": [
    "import numpy as np\n",
    "import numpy.random as random\n",
    "import scipy as sp\n",
    "import pandas as pd\n",
    "from pandas import Series, DataFrame\n",
    "\n",
    "# 可視化モジュール\n",
    "import matplotlib.pyplot as plt\n",
    "import matplotlib as mpl\n",
    "import seaborn as sns\n",
    "%matplotlib inline\n",
    "\n",
    "import scipy.linalg as linalg\n",
    "\n",
    "# 小数第３まで表示\n",
    "%precision 3\n",
    "    \n",
    "wine_quality = pd.read_csv(\"/Users/hatsuisa/Downloads/train.csv\")\n",
    "\n",
    "#重回帰分析\n",
    "wine_quality_except_quality = wine_quality.drop(\"quality\",axis=1)\n",
    "wine_quality_except_quality['const'] = np.array([1.]*len(wine_quality_except_quality.index))\n",
    "\n",
    "wine_quality_matrix = wine_quality_except_quality.as_matrix()\n",
    "\n",
    "wine_quality_quality = wine_quality['quality'].as_matrix()\n",
    "\n",
    "wine_quality_coef = np.dot(np.dot(linalg.inv(np.dot(wine_quality_matrix.T, wine_quality_matrix)), wine_quality_matrix.T), wine_quality_quality)\n",
    "\n",
    "print(DataFrame({\"変数\": wine_quality_except_quality.drop(\"const\",axis=1).columns, \"偏回帰係数\": wine_quality_coef[0:-1]}))\n",
    "\n",
    "print(\"切片:\", wine_quality_coef[-1])"
   ]
  },
  {
   "cell_type": "code",
   "execution_count": null,
   "metadata": {},
   "outputs": [],
   "source": []
  }
 ],
 "metadata": {
  "kernelspec": {
   "display_name": "Python 3",
   "language": "python",
   "name": "python3"
  },
  "language_info": {
   "codemirror_mode": {
    "name": "ipython",
    "version": 3
   },
   "file_extension": ".py",
   "mimetype": "text/x-python",
   "name": "python",
   "nbconvert_exporter": "python",
   "pygments_lexer": "ipython3",
   "version": "3.6.4"
  }
 },
 "nbformat": 4,
 "nbformat_minor": 2
}
